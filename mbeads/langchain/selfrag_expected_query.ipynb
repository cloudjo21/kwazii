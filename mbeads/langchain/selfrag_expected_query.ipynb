{
 "cells": [
  {
   "cell_type": "markdown",
   "metadata": {},
   "source": [
    "# Self-RAG Example for extracting expected queries from document"
   ]
  },
  {
   "cell_type": "code",
   "execution_count": 19,
   "metadata": {},
   "outputs": [],
   "source": [
    "docs_path = \"/mnt/d/temp/user/ed/mart/mmplastic/20240725_154000_000000/data.json\"\n",
    "\n",
    "expected_query_vector_index_dirpath = \"/mnt/d/temp/user/ed/warehouse/mmplastic/vector_index/selfrag_expected_query_vectors.faiss/20240807_150000_000000\"\n",
    "\n",
    "num_valid_queries = 3"
   ]
  },
  {
   "cell_type": "code",
   "execution_count": 20,
   "metadata": {},
   "outputs": [],
   "source": [
    "embedding_model_name = \"gemma-2-embed\"\n",
    "lang_model_name = \"tiger-gemma2\"\n",
    "\n",
    "update_vector_index = {\n",
    "    \"chunk\": False, \n",
    "    \"expected_query\": False, \n",
    "    \"intent_summary\": False, \n",
    "}\n",
    "\n",
    "max_tokens = 1024"
   ]
  },
  {
   "cell_type": "code",
   "execution_count": 21,
   "metadata": {},
   "outputs": [],
   "source": [
    "import re\n",
    "\n",
    "from IPython.display import Image, display\n",
    "from pprint import pprint\n",
    "from pydantic import BaseModel\n",
    "from typing import List, Optional\n",
    "from typing_extensions import TypedDict\n",
    "\n",
    "from langchain_community.embeddings import OllamaEmbeddings\n",
    "from langchain_community.vectorstores import FAISS\n",
    "\n",
    "from langchain_core.output_parsers import JsonOutputParser, StrOutputParser\n",
    "from langchain_core.prompts import PromptTemplate\n",
    "from langchain_core.runnables import RunnableBranch, RunnableLambda, RunnableParallel, RunnablePassthrough\n",
    "\n",
    "from langchain_ollama import ChatOllama\n",
    "\n",
    "from langgraph.graph import START, END, StateGraph\n"
   ]
  },
  {
   "cell_type": "code",
   "execution_count": 22,
   "metadata": {},
   "outputs": [],
   "source": [
    "expected_query_vector_db: Optional[FAISS] = None"
   ]
  },
  {
   "cell_type": "markdown",
   "metadata": {},
   "source": [
    "## Model Declaration"
   ]
  },
  {
   "cell_type": "code",
   "execution_count": 23,
   "metadata": {},
   "outputs": [],
   "source": [
    "embeddings = OllamaEmbeddings(\n",
    "    model=embedding_model_name\n",
    ")\n",
    "llm = ChatOllama(\n",
    "    model=lang_model_name,\n",
    "    temperature=0.8,\n",
    "    num_predict=max_tokens,\n",
    "    num_gpu=-1\n",
    ")"
   ]
  },
  {
   "cell_type": "code",
   "execution_count": 24,
   "metadata": {},
   "outputs": [],
   "source": [
    "def remove_list_prefixes(input_string):\n",
    "    lines = input_string.split('\\n')\n",
    "    cleaned_lines = []\n",
    "    \n",
    "    for line in lines:\n",
    "        # Remove leading hyphens or numbered prefixes\n",
    "        cleaned_line = re.sub(r'^\\s*[-\\d#]+\\.\\s*', '', line)\n",
    "        cleaned_lines.append(cleaned_line)\n",
    "    \n",
    "    return '\\n'.join(cleaned_lines)"
   ]
  },
  {
   "cell_type": "markdown",
   "metadata": {},
   "source": [
    "### Expected Query Chain"
   ]
  },
  {
   "cell_type": "code",
   "execution_count": 25,
   "metadata": {},
   "outputs": [],
   "source": [
    "parser = JsonOutputParser()\n",
    "\n",
    "\n",
    "class ExpectedQuerySet(BaseModel):\n",
    "    queries: List[str]\n",
    "\n",
    "\n",
    "expected_queries_prompt = PromptTemplate.from_template(\n",
    "    \"\"\"\n",
    "    아래 문장에서 만들 수 있는 핵심질문 {num_q}가지 만들어줘.\n",
    "    예 또는 아니오로 대답하는 단답형 질문이 아니라, 텍스트 안의 사실이나 사건의 구체적 내용을 대답할 수 있는 질문을 만들어야 해.\n",
    "    문장 마침표를 제외한 특수기호는 모두 제거해줘.\n",
    "    {document}\n",
    "    \"\"\"\n",
    ")\n",
    "# expected_queries_prompt = JsonOutputParser(pydantic_object=ExpectedQuerySet)"
   ]
  },
  {
   "cell_type": "code",
   "execution_count": 26,
   "metadata": {},
   "outputs": [],
   "source": [
    "def estimate_num_queries(x):\n",
    "    return {\"num_q\": int(len(x[\"document\"]) / 20), \"document\": x[\"document\"]}\n",
    "\n",
    "def fetch_expected_queries(text):\n",
    "    maybe_queries = remove_list_prefixes(text)\n",
    "    queries = list(filter(lambda d: d, maybe_queries.split(\"\\n\")))\n",
    "    # queries = list(filter(lambda d: d, maybe_queries))\n",
    "    return {\"expected_queries\": queries}\n",
    "\n",
    "expected_query_chain = (\n",
    "    {\"document\": RunnablePassthrough()} |\n",
    "    RunnableLambda(estimate_num_queries) | \n",
    "    {\"document\": lambda x: x[\"document\"], \"num_q\": lambda x: x[\"num_q\"]} | expected_queries_prompt | llm | StrOutputParser() |\n",
    "    RunnableLambda(fetch_expected_queries) |\n",
    "    RunnablePassthrough.assign(expected_queries=lambda x: x[\"expected_queries\"])\n",
    ")"
   ]
  },
  {
   "cell_type": "code",
   "execution_count": 27,
   "metadata": {},
   "outputs": [
    {
     "name": "stdout",
     "output_type": "stream",
     "text": [
      "(\"30일 학계에 따르면 아미트 아브라함 카타르 웨일코넬의대 교수 연구팀은 국제학술지 '영국의학회지(BMJ) 세계 보건' 최신호에 발표한 \"\n",
      " '논평을 통해 \"인간과 지구의 건강을 위해 생수의 사용을 재고해야 한다\"는 주장을 제기했다.')\n"
     ]
    }
   ],
   "source": [
    "document = \"\"\"30일 학계에 따르면 아미트 아브라함 카타르 웨일코넬의대 교수 연구팀은 국제학술지 '영국의학회지(BMJ) 세계 보건' 최신호에 발표한 논평을 통해 \"인간과 지구의 건강을 위해 생수의 사용을 재고해야 한다\"는 주장을 제기했다.\"\"\"\n",
    "pprint(document)"
   ]
  },
  {
   "cell_type": "code",
   "execution_count": 28,
   "metadata": {},
   "outputs": [
    {
     "name": "stdout",
     "output_type": "stream",
     "text": [
      "{'expected_queries': ['아미트 아브라함 카타르 웨일코넬의대 교수가 어떤 국제학술지에 논평을 발표했나요?',\n",
      "                      '해당 논평에서 연구팀은 인간과 지구의 건강에 대해 어떤 주장을 제기했나요?',\n",
      "                      '연구팀이 이러한 주장을 뒷받침하는 근거는 무엇인가요?',\n",
      "                      '왜 생수 사용을 재고해야 하는지 구체적인 이유를 설명해줘요.',\n",
      "                      '해당 논평은 어떤 대중에게 영향을 미칠 수 있을까요?',\n",
      "                      '연구팀이 제기한 주장에 대한 다른 사람들의 반응은 어떠했나요?']}\n"
     ]
    }
   ],
   "source": [
    "expected_queries = expected_query_chain.invoke(document)\n",
    "pprint(expected_queries)"
   ]
  },
  {
   "cell_type": "code",
   "execution_count": 29,
   "metadata": {},
   "outputs": [],
   "source": [
    "hallucination_check_prompt = PromptTemplate.from_template(\n",
    "    \"\"\"\n",
    "    질문이 주어진 문서에서 다루는 사실에 근거한 내용을 포함한지 판단해줘\n",
    "    문서: {context}\n",
    "    질문: {question}\n",
    "\n",
    "    설명없이 '예' 또는 '아니오'로 대답해줘\n",
    "    \"\"\"\n",
    ")"
   ]
  },
  {
   "cell_type": "code",
   "execution_count": 30,
   "metadata": {},
   "outputs": [],
   "source": [
    "hallucination_check_chain = hallucination_check_prompt | llm | StrOutputParser()"
   ]
  },
  {
   "cell_type": "code",
   "execution_count": 31,
   "metadata": {},
   "outputs": [
    {
     "name": "stdout",
     "output_type": "stream",
     "text": [
      "[('아미트 아브라함 카타르 웨일코넬의대 교수가 어떤 국제학술지에 논평을 발표했나요?', True),\n",
      " ('해당 논평에서 연구팀은 인간과 지구의 건강에 대해 어떤 주장을 제기했나요?', False),\n",
      " ('연구팀이 이러한 주장을 뒷받침하는 근거는 무엇인가요?', True),\n",
      " ('왜 생수 사용을 재고해야 하는지 구체적인 이유를 설명해줘요.', True),\n",
      " ('해당 논평은 어떤 대중에게 영향을 미칠 수 있을까요?', False),\n",
      " ('연구팀이 제기한 주장에 대한 다른 사람들의 반응은 어떠했나요?', False)]\n"
     ]
    }
   ],
   "source": [
    "question = \"인간과 지구의 건강에 미치는 영향에 대해 논평에서는 무엇을 제안했나요?\"\n",
    "\n",
    "decisions = []\n",
    "\n",
    "for q in expected_queries[\"expected_queries\"]:\n",
    "    output = hallucination_check_chain.invoke(\n",
    "        {\n",
    "            \"context\": document,\n",
    "            \"question\": q\n",
    "        }\n",
    "    )\n",
    "    binary_decision = True if output.strip() in ['yes', '예'] else False\n",
    "    decisions.append(binary_decision)\n",
    "\n",
    "pprint(list(zip(expected_queries[\"expected_queries\"], decisions)))"
   ]
  },
  {
   "cell_type": "markdown",
   "metadata": {},
   "source": [
    "## Build Graph Elements"
   ]
  },
  {
   "cell_type": "markdown",
   "metadata": {},
   "source": [
    "### state"
   ]
  },
  {
   "cell_type": "code",
   "execution_count": 32,
   "metadata": {},
   "outputs": [],
   "source": [
    "class State(TypedDict):\n",
    "    \"\"\"\n",
    "    represents the state of graph\n",
    "    \"\"\"\n",
    "    document: str\n",
    "    queries: List[str]\n",
    "    retry_fetch: str"
   ]
  },
  {
   "cell_type": "markdown",
   "metadata": {},
   "source": [
    "### nodes"
   ]
  },
  {
   "cell_type": "code",
   "execution_count": 46,
   "metadata": {},
   "outputs": [],
   "source": [
    "def fetch_queries(state):\n",
    "    \"\"\"\n",
    "    extract and fetch expected queries from document\n",
    "\n",
    "    Args:\n",
    "        state (dict): The current graph state\n",
    "\n",
    "    Returns:\n",
    "        state (dict): New key added to state, documents, that contains retrieved documents\n",
    "    \"\"\"\n",
    "    document = state[\"document\"]\n",
    "\n",
    "    queries = expected_query_chain.invoke(document)\n",
    "\n",
    "    return {\n",
    "        \"queries\": queries[\"expected_queries\"] if queries else [],\n",
    "        \"document\": document\n",
    "    }\n",
    "\n",
    "\n",
    "def filter_queries(state):\n",
    "    \"\"\"\n",
    "    Determines whether the fetched queries are relevant to the document.\n",
    "\n",
    "    Args:\n",
    "        state (dict): The current graph state\n",
    "\n",
    "    Returns:\n",
    "        state (dict): Updates queries key with only filtered relevant queries \n",
    "    \"\"\"\n",
    "    filtered_queries = []\n",
    "    queries = state[\"queries\"]\n",
    "    document = state[\"document\"]\n",
    "\n",
    "    for q in queries:\n",
    "        output = hallucination_check_chain.invoke(\n",
    "            {\n",
    "                \"context\": document,\n",
    "                \"question\": q\n",
    "            }\n",
    "        )\n",
    "        decision: str = output.strip()\n",
    "        if decision in [\"yes\", \"예\"]:\n",
    "            filtered_queries.append(q)\n",
    "    return {\n",
    "        \"queries\": filtered_queries,\n",
    "        \"document\": document,\n",
    "        \"retry_fetch\": \"yes\" if len(filtered_queries) < num_valid_queries else \"no\"\n",
    "    }\n"
   ]
  },
  {
   "cell_type": "markdown",
   "metadata": {},
   "source": [
    "### Conditional Edges"
   ]
  },
  {
   "cell_type": "code",
   "execution_count": 47,
   "metadata": {},
   "outputs": [],
   "source": [
    "# Conditional Edges\n",
    "# decide to re-fetch if the number of filtered queries are less then 3 queries\n",
    "def decide_to_refetch(state):\n",
    "    retry_fetch = state[\"retry_fetch\"]\n",
    "    if retry_fetch == \"yes\":\n",
    "        return \"fetch\"\n",
    "    else:\n",
    "        return \"end_fetch\""
   ]
  },
  {
   "cell_type": "markdown",
   "metadata": {},
   "source": [
    "## Build Graph for workflow"
   ]
  },
  {
   "cell_type": "code",
   "execution_count": 48,
   "metadata": {},
   "outputs": [],
   "source": [
    "graph = StateGraph(State)\n",
    "\n",
    "graph.add_node(\"fetch_query\", fetch_queries)\n",
    "graph.add_node(\"filter_query\", filter_queries)\n",
    "\n",
    "graph.add_conditional_edges(\n",
    "    \"filter_query\",\n",
    "    decide_to_refetch,\n",
    "    {\n",
    "        \"fetch\": \"fetch_query\",\n",
    "        \"end_fetch\": END\n",
    "    }\n",
    ")\n",
    "\n",
    "graph.add_edge(START, \"fetch_query\")\n",
    "graph.add_edge(\"fetch_query\", \"filter_query\")\n",
    "\n",
    "workflow = graph.compile()"
   ]
  },
  {
   "cell_type": "markdown",
   "metadata": {},
   "source": [
    "# Display Workflow"
   ]
  },
  {
   "cell_type": "code",
   "execution_count": 49,
   "metadata": {},
   "outputs": [
    {
     "data": {
      "image/jpeg": "[encoded data removed]",
      "text/plain": [
       "<IPython.core.display.Image object>"
      ]
     },
     "metadata": {},
     "output_type": "display_data"
    }
   ],
   "source": [
    "display(Image(workflow.get_graph(xray=True).draw_mermaid_png()))"
   ]
  },
  {
   "cell_type": "markdown",
   "metadata": {},
   "source": [
    "## Test"
   ]
  },
  {
   "cell_type": "code",
   "execution_count": 50,
   "metadata": {},
   "outputs": [
    {
     "name": "stdout",
     "output_type": "stream",
     "text": [
      "(\"30일 학계에 따르면 아미트 아브라함 카타르 웨일코넬의대 교수 연구팀은 국제학술지 '영국의학회지(BMJ) 세계 보건' 최신호에 발표한 \"\n",
      " '논평을 통해 \"인간과 지구의 건강을 위해 생수의 사용을 재고해야 한다\"는 주장을 제기했다.')\n"
     ]
    }
   ],
   "source": [
    "document = \"\"\"30일 학계에 따르면 아미트 아브라함 카타르 웨일코넬의대 교수 연구팀은 국제학술지 '영국의학회지(BMJ) 세계 보건' 최신호에 발표한 논평을 통해 \"인간과 지구의 건강을 위해 생수의 사용을 재고해야 한다\"는 주장을 제기했다.\"\"\"\n",
    "pprint(document)"
   ]
  },
  {
   "cell_type": "code",
   "execution_count": 51,
   "metadata": {},
   "outputs": [
    {
     "data": {
      "text/plain": [
       "{'response': ['아미트 아브라함 카타르 웨일코넬의대 교수 연구팀이 국제학술지에 발표한 논평에서 무엇에 대해 주장을 제기했나요?',\n",
       "  '그 논문은 어떤 학술지에 실려 있나요?',\n",
       "  \"'영국의학회지(BMJ) 세계 보건' 최신호에 실린 논평에서 인간과 지구의 건강에 어떤 영향을 미치는지 설명해줘\",\n",
       "  '아미트 아브라함 카타르 웨일코넬의대 교수 연구팀은 생수 사용이 문제가 되는 이유를 무엇이라고 주장했나요?']}"
      ]
     },
     "execution_count": 51,
     "metadata": {},
     "output_type": "execute_result"
    }
   ],
   "source": [
    "import uuid\n",
    "\n",
    "\n",
    "def answer_by_agent(example: dict):\n",
    "    config = {\"configurable\": {\"thread_id\": str(uuid.uuid4())}}\n",
    "    state_dict = workflow.invoke(\n",
    "        {\n",
    "            \"document\": example[\"input\"],\n",
    "        },\n",
    "        config\n",
    "    )\n",
    "    return {\"response\": state_dict[\"queries\"]}\n",
    "\n",
    "\n",
    "example = {\n",
    "    \"input\": document\n",
    "}\n",
    "response = answer_by_agent(example)\n",
    "response"
   ]
  }
 ],
 "metadata": {
  "kernelspec": {
   "display_name": "mypy311",
   "language": "python",
   "name": "python3"
  },
  "language_info": {
   "codemirror_mode": {
    "name": "ipython",
    "version": 3
   },
   "file_extension": ".py",
   "mimetype": "text/x-python",
   "name": "python",
   "nbconvert_exporter": "python",
   "pygments_lexer": "ipython3",
   "version": "3.11.6"
  }
 },
 "nbformat": 4,
 "nbformat_minor": 2
}
