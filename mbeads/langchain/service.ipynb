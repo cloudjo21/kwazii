{
 "cells": [
  {
   "cell_type": "markdown",
   "metadata": {},
   "source": [
    "# Features\n",
    "- 문서 semantic multi-indexing 처리와 저장\n",
    "- ```TODO``` 패널데이터 인과추론 처리 Tool set 제공"
   ]
  },
  {
   "cell_type": "code",
   "execution_count": 447,
   "metadata": {},
   "outputs": [],
   "source": [
    "import logging\n",
    "import faiss\n",
    "import numpy as np\n",
    "import re\n",
    "import polars as pl\n",
    "import scipy\n",
    "import uuid\n",
    "\n",
    "from tqdm import tqdm\n",
    "from typing import List, Optional\n",
    "\n",
    "from langchain.callbacks.manager import CallbackManagerForRetrieverRun\n",
    "from langchain.chains import LLMChain\n",
    "from langchain.document_loaders import JSONLoader\n",
    "from langchain.retrievers import BM25Retriever, ContextualCompressionRetriever\n",
    "from langchain.retrievers.document_compressors import DocumentCompressorPipeline, EmbeddingsFilter\n",
    "from langchain.retrievers.multi_query import MultiQueryRetriever\n",
    "from langchain_chroma import Chroma\n",
    "from langchain_community.document_loaders import WebBaseLoader\n",
    "from langchain_community.document_transformers import EmbeddingsRedundantFilter\n",
    "from langchain_community.docstore.in_memory import InMemoryDocstore\n",
    "from langchain_community.embeddings import OllamaEmbeddings\n",
    "from langchain_community.utils.math import cosine_similarity\n",
    "from langchain_community.vectorstores import FAISS\n",
    "from langchain_core.documents.base import Document\n",
    "from langchain_core.runnables import RunnableBranch, RunnableLambda, RunnableParallel, RunnablePassthrough\n",
    "from langchain_core.output_parsers import JsonOutputParser, StrOutputParser\n",
    "from langchain_core.prompts import PromptTemplate\n",
    "from langchain_ollama import ChatOllama\n",
    "from langchain_text_splitters import RecursiveCharacterTextSplitter"
   ]
  },
  {
   "cell_type": "code",
   "execution_count": 448,
   "metadata": {},
   "outputs": [],
   "source": [
    "update_vector_index = {\n",
    "    \"chunk\": False, \n",
    "    \"expected_query\": False, \n",
    "    \"intent_summary\": False, \n",
    "}\n",
    "\n",
    "max_tokens = 1024"
   ]
  },
  {
   "cell_type": "code",
   "execution_count": 449,
   "metadata": {},
   "outputs": [],
   "source": [
    "docs_path = \"/mnt/d/temp/user/ed/mart/mmplastic/20240725_154000_000000/data.json\"\n",
    "chunk_vector_index_dirpath = \"/mnt/d/temp/user/ed/warehouse/mmplastic/vector_index/chunk_vectors.faiss/20240807_100000_000000\"\n",
    "summary_vector_index_dirpath = \"/mnt/d/temp/user/ed/warehouse/mmplastic/vector_index/summary_vectors.faiss/20240807_110000_000000\"\n",
    "expected_query_vector_index_dirpath = \"/mnt/d/temp/user/ed/warehouse/mmplastic/vector_index/expected_query_vectors.faiss/20240807_150000_000000\"\n",
    "intent_summary_vector_index_dirpath = \"/mnt/d/temp/user/ed/warehouse/mmplastic/vector_index/intent_summary_vectors.faiss/20240808_120000_000000\"\n",
    "\n",
    "embedding_model_name = \"gemma-2-embed\"\n",
    "lang_model_name = \"tiger-gemma2\"\n",
    "\n",
    "question = \"미세플라스틱이 햇빛에 노출되면 오염줄질을 흡수하는 연구와 관련된 미국 대학교를 찾고있어\"\n",
    "\n",
    "\n",
    "chunk_vector_db: Optional[FAISS] = None\n",
    "expected_query_vector_db: Optional[FAISS] = None\n",
    "intent_summary_vector_db: Optional[FAISS] = None\n",
    "\n",
    "\n",
    "def metadata_func(record: dict, metadata: dict) -> dict:\n",
    "    metadata[\"title\"] = record.get(\"title\")\n",
    "    metadata[\"date\"] = record.get(\"date\")\n",
    "    return metadata\n",
    "\n",
    "loader = JSONLoader(\n",
    "    file_path=docs_path,\n",
    "    jq_schema=\".[]\",\n",
    "    content_key=\"content\",\n",
    "    text_content=True,\n",
    "    metadata_func=metadata_func,\n",
    ")\n",
    "# https://python.langchain.com/v0.1/docs/modules/data_connection/document_loaders/custom/\n",
    "\n",
    "bm25_retriever = BM25Retriever.from_documents(loader.lazy_load(), preprocess_func=lambda x: re.split(\"[-\\n,\\s+]\", x))\n",
    "\n",
    "def pretty_print_docs(docs):\n",
    "    print(\n",
    "        f\"\\n{'-' * 100}\\n\".join(\n",
    "            # [f\"{d.metadata['seq_num']}-{d.metadata['sub_seq_num']} RANK:{i+1}\\n{d.metadata['title'][:20]}:\\n\\n\" + d.page_content for i, d in enumerate(docs)]\n",
    "            [f\"RANK:{i+1}\\nSEQ_NUM:[{d.metadata['seq_num']}]\\n{d.metadata['title'][:64]}:\\n\\n\" + d.page_content for i, d in enumerate(docs)]\n",
    "        )\n",
    "    )\n",
    "def pretty_print_docs_with_similarity(docs):\n",
    "    print(\n",
    "        f\"\\n{'-' * 100}\\n\".join(\n",
    "            # [f\"{d.metadata['seq_num']}-{d.metadata['sub_seq_num']} RANK:{i+1}\\n{d.metadata['title'][:20]}:\\n\\n\" + d.page_content for i, d in enumerate(docs)]\n",
    "            [f\"RANK:{i+1}\\nSEQ_NUM:[{d.metadata['seq_num']}], SIM[{d.state['query_similarity_score'] if 'query_similarity_score' in d.state else 'N/A'}]\\n{d.metadata['title'][:64]}:\\n\\n\" + d.page_content for i, d in enumerate(docs)]\n",
    "        )\n",
    "    )\n",
    "\n",
    "def remove_list_prefixes(input_string):\n",
    "    lines = input_string.split('\\n')\n",
    "    cleaned_lines = []\n",
    "    \n",
    "    for line in lines:\n",
    "        # Remove leading hyphens or numbered prefixes\n",
    "        cleaned_line = re.sub(r'^\\s*[-\\d#]+\\.\\s*', '', line)\n",
    "        cleaned_lines.append(cleaned_line)\n",
    "    \n",
    "    return '\\n'.join(cleaned_lines)"
   ]
  },
  {
   "cell_type": "markdown",
   "metadata": {},
   "source": [
    "## Splitters"
   ]
  },
  {
   "cell_type": "code",
   "execution_count": 450,
   "metadata": {},
   "outputs": [],
   "source": [
    "text_chunk_splitter = RecursiveCharacterTextSplitter(\n",
    "    separators=\"\\n\\n\",\n",
    "    chunk_size=200,\n",
    "    chunk_overlap=10,\n",
    "    keep_separator=True\n",
    ")\n",
    "overlapped_sentences_splitter = RecursiveCharacterTextSplitter(\n",
    "    chunk_size=150,\n",
    "    chunk_overlap=50,\n",
    "    is_separator_regex=True,\n",
    "    separators=[\n",
    "        \"\\n\\n\",\n",
    "        \"\\n\",\n",
    "        \" \",\n",
    "        \".\",\n",
    "        \",\",\n",
    "        \"\\u200b\",  # Zero-width space\n",
    "        \"\\uff0c\",  # Fullwidth comma\n",
    "        \"\\u3001\",  # Ideographic comma\n",
    "        \"\\uff0e\",  # Fullwidth full stop\n",
    "        \"\\u3002\",  # Ideographic full stop\n",
    "        \"\",\n",
    "    ]\n",
    ")\n",
    "sentence_splitter = RecursiveCharacterTextSplitter(\n",
    "    # separators=\"\\n\\n\",\n",
    "    chunk_size=80,\n",
    "    chunk_overlap=8,\n",
    "    keep_separator=True,\n",
    "    is_separator_regex=True,\n",
    "    separators=[\n",
    "        \"\\n\\n\",\n",
    "        \"\\n\",\n",
    "        \" \",\n",
    "        \".\",\n",
    "        \",\",\n",
    "        \"\\u200b\",  # Zero-width space\n",
    "        \"\\uff0c\",  # Fullwidth comma\n",
    "        \"\\u3001\",  # Ideographic comma\n",
    "        \"\\uff0e\",  # Fullwidth full stop\n",
    "        \"\\u3002\",  # Ideographic full stop\n",
    "        # \"\",\n",
    "    ]\n",
    ")"
   ]
  },
  {
   "cell_type": "markdown",
   "metadata": {},
   "source": [
    "## Model Declaration"
   ]
  },
  {
   "cell_type": "code",
   "execution_count": 451,
   "metadata": {},
   "outputs": [],
   "source": [
    "embeddings = OllamaEmbeddings(\n",
    "    model=embedding_model_name\n",
    ")\n",
    "llm = ChatOllama(\n",
    "    model=lang_model_name,\n",
    "    temperature=0.8,\n",
    "    num_predict=max_tokens,\n",
    "    num_gpu=-1\n",
    ")"
   ]
  },
  {
   "cell_type": "markdown",
   "metadata": {},
   "source": [
    "## Chain Definitions"
   ]
  },
  {
   "cell_type": "markdown",
   "metadata": {},
   "source": [
    "### Input Chain"
   ]
  },
  {
   "cell_type": "code",
   "execution_count": 452,
   "metadata": {},
   "outputs": [],
   "source": [
    "input_chain = {\"question\": RunnablePassthrough()}"
   ]
  },
  {
   "cell_type": "markdown",
   "metadata": {},
   "source": [
    "### Quesion Classification\n",
    "- SentenceType\n",
    "- Intent\n",
    "> SentenceType:서술형 Intent:기타 이면 외부 LLM으로 별도 처리?"
   ]
  },
  {
   "cell_type": "markdown",
   "metadata": {},
   "source": [
    "#### SentenceType Classification Chain"
   ]
  },
  {
   "cell_type": "code",
   "execution_count": 453,
   "metadata": {},
   "outputs": [],
   "source": [
    "sent_type_prompt = PromptTemplate.from_template(\n",
    "    \"\"\"아래 내용이 '질문형' 혹은 '서술형'인지 분류해줘. 분류만 짧게 답변하고, 분류기준은 아래를 참고해줘\n",
    "    - 질문형: 무엇을 궁금해하는지가 텍스트에 들어있는 경우\n",
    "    - 서술형: 질문이 아닌 서술하는 여러 개의 문장 형태를 갖고있는 경우\n",
    "\n",
    "    내용: {question}\n",
    "    분류:\"\"\"\n",
    ")\n",
    "sent_type_chain = (sent_type_prompt | llm | StrOutputParser())"
   ]
  },
  {
   "cell_type": "markdown",
   "metadata": {},
   "source": [
    "#### Intent Classification Chain"
   ]
  },
  {
   "cell_type": "code",
   "execution_count": 454,
   "metadata": {},
   "outputs": [],
   "source": [
    "INTENT = [\"현상\", \"영향\", \"대응\", \"기타\"]\n",
    "intent_prompt = PromptTemplate.from_template(\n",
    "    \"\"\"사용자 질문을 '현상', '영향', '대응', '기타'로 분류해줘. 분류만 짧게 답변하고, 분류기준은 아래를 참고해줘\n",
    "    - 현상: 미세플라스틱 자체를 자세히 설명하거나 자연이나 사회에서 나타난 경우\n",
    "    - 영향: 미세플라스틱이 사람에게 건강이나 신처적으로 나쁜 영향을 주는 경우\n",
    "    - 대응: 미세플라스틱 문제를 해결하기 위한 연구 결과나 발표 보고 등의 대응인 경우\n",
    "    - 기타: 위 세가지에 해당하지 않는 경우\n",
    "\n",
    "    질문: {question}\n",
    "    분류:\"\"\"\n",
    ")\n",
    "def apply_intent(x):\n",
    "    while result not in INTENT:\n",
    "        result = llm.invoke(x[\"question\"])\n",
    "    return result\n",
    "\n",
    "intent_chain = (\n",
    "    intent_prompt | llm | StrOutputParser()\n",
    ")"
   ]
  },
  {
   "cell_type": "markdown",
   "metadata": {},
   "source": [
    "### Keyword Extraction Chain"
   ]
  },
  {
   "cell_type": "code",
   "execution_count": 455,
   "metadata": {},
   "outputs": [],
   "source": [
    "keyword_extract_prompt = PromptTemplate(\n",
    "    input_variables=[\"question\"],\n",
    "    template=\"\"\"아래 질문에서 누가, 무엇을, 어떻게, 이유 등과 관련된 가장 중요한 키워드만 숫자없이 답변해줘. ',' 구분자로 답변해줘. \n",
    "    기본 질문: {question}\n",
    "    \"\"\"\n",
    ")\n",
    "keyword_extract_chain = keyword_extract_prompt | llm | StrOutputParser()"
   ]
  },
  {
   "cell_type": "markdown",
   "metadata": {},
   "source": [
    "### Metadata Extraction Chain\n",
    "- Question Classification\n",
    "  - SentenceType / Intent Classification\n",
    "- Keywords"
   ]
  },
  {
   "cell_type": "code",
   "execution_count": 456,
   "metadata": {},
   "outputs": [],
   "source": [
    "preproc_chain = (\n",
    "    RunnableParallel(\n",
    "        intent=intent_chain,\n",
    "        sentence_type=sent_type_chain,\n",
    "        keywords=keyword_extract_chain\n",
    "    )\n",
    ")"
   ]
  },
  {
   "cell_type": "code",
   "execution_count": 457,
   "metadata": {},
   "outputs": [],
   "source": [
    "question_classify_chain = (\n",
    "    RunnableParallel(\n",
    "        sentence_type=lambda x: sent_type_chain.invoke(x),\n",
    "        intent=lambda x: intent_chain.invoke(x),\n",
    "        question=lambda x: x[\"question\"]\n",
    "    )\n",
    ")\n"
   ]
  },
  {
   "cell_type": "markdown",
   "metadata": {},
   "source": [
    "### Expected Query Chain"
   ]
  },
  {
   "cell_type": "code",
   "execution_count": 458,
   "metadata": {},
   "outputs": [],
   "source": [
    "# doc = \"보통 미세플라스틱은 5㎜ 이하의 작은 플라스틱 조각을 말한다. 1㎛ 이하는 나노 플라스틱으로 분류된다. 인간이 만들어낸 물건에서 떨어져 나간 이 작은 플라스틱은 대기, 담수, 해양, 지하수, 토양 등 모든 곳에 흩뿌려져 지구 전체를 순환한다.\"\n",
    "# num_q = int(len(doc) / 30)\n",
    "\n",
    "expected_queries_prompt = PromptTemplate.from_template(\n",
    "    \"\"\"\n",
    "    아래 문장에서 만들 수 있는 핵심질문 {num_q}가지 만들어줘. 문장 마침표를 제외한 특수기호는 모두 제거해줘. \n",
    "    {document}\n",
    "    \"\"\"\n",
    ")"
   ]
  },
  {
   "cell_type": "code",
   "execution_count": 459,
   "metadata": {},
   "outputs": [],
   "source": [
    "def estimate_num_queries(x):\n",
    "    return {\"num_q\": int(len(x[\"document\"]) / 20), \"document\": x[\"document\"]}\n",
    "\n",
    "def fetch_expected_queries(text):\n",
    "    maybe_queries = remove_list_prefixes(text)\n",
    "    queries = list(filter(lambda d: d, maybe_queries.split(\"\\n\")))\n",
    "    # queries = list(filter(lambda d: d, maybe_queries))\n",
    "    return {\"expected_queries\": queries}\n",
    "\n",
    "expected_query_chain = (\n",
    "    {\"document\": RunnablePassthrough()} |\n",
    "    RunnableLambda(estimate_num_queries) | \n",
    "    {\"document\": lambda x: x[\"document\"], \"num_q\": lambda x: x[\"num_q\"]} | expected_queries_prompt | llm | StrOutputParser() |\n",
    "    RunnableLambda(fetch_expected_queries) |\n",
    "    RunnablePassthrough.assign(expected_queries=lambda x: x[\"expected_queries\"])\n",
    "    # JsonOutputParser()\n",
    ")"
   ]
  },
  {
   "cell_type": "markdown",
   "metadata": {},
   "source": [
    "### Split Chain"
   ]
  },
  {
   "cell_type": "code",
   "execution_count": 460,
   "metadata": {},
   "outputs": [
    {
     "data": {
      "text/plain": [
       "[{'id': '1a37ec50-5602-11ef-983a-00155d610555',\n",
       "  'metadata': {'sentence_type': '질문형', 'intent': '대응', 'chunk_seq_num': 0},\n",
       "  'page_content': '미세플라스틱이 햇빛에 노출되면 오염줄질을 흡수하는 연구와 관련된 미국 대학교를 찾고있어',\n",
       "  'question': '미세플라스틱이 햇빛에 노출되면 오염줄질을 흡수하는 연구와 관련된 미국 대학교를 찾고있어'}]"
      ]
     },
     "execution_count": 460,
     "metadata": {},
     "output_type": "execute_result"
    }
   ],
   "source": [
    "def split_docs(x):\n",
    "    question = x[\"question\"]\n",
    "    splits = text_chunk_splitter.split_text(question)\n",
    "    input_metadata = dict(x.items())\n",
    "    del input_metadata[\"question\"]\n",
    "    return [\n",
    "        {\n",
    "            \"id\": str(uuid.uuid1()),\n",
    "            \"metadata\": dict(\n",
    "                **input_metadata, **{\"chunk_seq_num\": chunk_seq}\n",
    "            ),\n",
    "            \"page_content\": s,\n",
    "            \"question\": question\n",
    "        } for chunk_seq, s in enumerate(splits)\n",
    "    ]\n",
    "    # return [\n",
    "    #     Document(\n",
    "    #         page_content=s,\n",
    "    #         id=str(uuid.uuid1()),\n",
    "    #         metadata=dict(**input_metadata, **{\"chunk_seq_num\": i})\n",
    "    #     ) for i, s in enumerate(splits)\n",
    "    # ]\n",
    "\n",
    "split_chain = (\n",
    "    input_chain |\n",
    "    question_classify_chain |\n",
    "    RunnableParallel(\n",
    "        {\n",
    "            \"question\": lambda x: x[\"question\"],\n",
    "            \"sentence_type\": lambda x: x[\"sentence_type\"],\n",
    "            \"intent\": lambda x: x[\"intent\"],\n",
    "        }\n",
    "    ) |\n",
    "    RunnableLambda(split_docs) \n",
    "    # StrOutputParser()\n",
    ")\n",
    "\n",
    "split_chain.invoke(question)"
   ]
  },
  {
   "cell_type": "code",
   "execution_count": 461,
   "metadata": {},
   "outputs": [],
   "source": [
    "def preproc_batch(documents: List[dict]) -> List[dict]:\n",
    "    metadata = preproc_chain.batch(documents)\n",
    "    for doc, metadatum in zip(documents, metadata):\n",
    "        doc.update(metadatum)\n",
    "    return documents\n",
    "\n",
    "split_chunk_chain = (\n",
    "    {\"seq_num\": lambda x: x[\"seq_num\"], \"question\": lambda x: x[\"question\"]} |\n",
    "    RunnableLambda(split_docs) |\n",
    "    RunnableLambda(preproc_batch) \n",
    ")\n",
    "\n",
    "# doc = \"\"\"유엔환경계획(UNEP), 우려되는 화학물질 및 고분자(polymer) 사용을 전 세계적으로 금지하는 새로운 글로벌 조약 초안*을 발표함(9월 4일).\\n\\n일명 ‘제로 초안(zero draft)‘으로 알려진 이 조약은 UN 당사국이 플라스틱 오염을 줄이기 위한 방안에 관하여 작성된 최초의 문서로, 11월에 있을 3차 회담에 앞서 발표됨. UNEP는 2024년도까지 조약의 완성을 마무리하는 것을 목표로 함.\\n\\n조약에 명시된 요구사항은 국가 정책기관에 전달되어 궁극적으로 플라스틱을 생산 및 사용하는 기업과, 화학첨가제를 제조 및 공급하는 기업에 영향을 미칠 예정.\\n\\n조약 초안에 따르면, 조약 당사국은 미세플라스틱을 포함한 유해화학물질이 대기, 토양, 수질 및 생태계로 배출되는 것을 ‘방지 및 제거‘ 해야 한다고 명시하고 있으며, 이를 위해 아 래 3 가지 방안을 제시함\\n\\n- 방안 1 : 각 국가의 플라스틱 생산에 우려되는 화학물질 및 고분자 사용을 ‘금지 및 제거‘하도록 구속함\\n\\n- 방안 2 : 각 국가의 플라스틱 사용을 ‘최소화‘하도록 의무화 함\\n\\n위 두 가지 방안은 화학물질 및 고분자 생산자·수입자로 하여금 플라스틱 제품 lifecycle 에 걸쳐 건강 및 환경에 대한 유해성을 포함한 화학성분의 정보를 공개해야 함. 또한 화학물질을 추적할 수 있도록 적절한 조치를 취하고, 라벨링 요건을 수립해야 함.\\n\\n- 방안 3 : 가장 구속력이 낮은 방안으로, 화학물질 첨가 및 사용에 대하여 각 국가의 재량에 맡기고 개발된 전략을 공유하도록 함\\n\\n \\n\\n우려되는 화학물질 및 고분자 정의\\n\\n조약의 효력은 우려되는 화학물질 및 고분자의 정의에 따라 달라질 수 있으며, 다음과 같은 사항이 포함됨.\\n\\n- 발암성·돌연변이성·생식독성(CMR), 내분비장애(EDC), 잔류성·축척성·독성(PBT) 물질을 포함하여 인체 및 환경에 유해한 화학물질\\n\\n- 쉽게 재활용할 수 없는 고분자 및 브롬계난연제를 포함하여 안전하고 품질 높은 2차 재료의 재활용성 또는 순환성을 저해하는 물질\\n\\n- 미세플라스틱과 같이 환경에서 잘 분해되지 않아 방출했을 때 위험성이 있는 물질\\n\\n- 오존층 파괴 및 지구온난화(global warming potential, GWP) 물질\\n\\n- 고우려 고분자 물질\\n\\n- 플라스틱 제품으로부터 이동 및 방출 가능성 있는 물질\\n\\nNGO 단체는 우려되는 화학물질, 고분자 및 플라스틱 제품에 대한 규제 방안 합의에 있어 세부사항의 중요성을 당부함.\"\"\"\n",
    "# split_chunk_chain.invoke({\"question\": doc, \"seq_num\": 999})"
   ]
  },
  {
   "cell_type": "markdown",
   "metadata": {},
   "source": [
    "### Intent-based Summarizing Chains"
   ]
  },
  {
   "cell_type": "code",
   "execution_count": 462,
   "metadata": {},
   "outputs": [],
   "source": [
    "### For Indexing Pipeline\n",
    "phenomenon_prompt = PromptTemplate.from_template(\"\"\"\n",
    "시간이나 장소를 포함한 현상을 대상과 수치를 함께 설명한 요약들로 30자 내로 짧게 정리해줘\n",
    "\n",
    "텍스트: {question}\n",
    "\"\"\", name=\"현상\")\n",
    "impact_prompt = PromptTemplate.from_template(\"\"\"\n",
    "사람이나 동물에게 어떤 나쁜 영향이 있는지 속성과 수치를 함께 설명한 요약들을 30자 내로 짧게 정리해줘\n",
    "\n",
    "텍스트: {question}\n",
    "\"\"\", name=\"영향\")\n",
    "response_prompt = PromptTemplate.from_template(\"\"\"\n",
    "대응을 하는 주체, 어떤 대응을 했는지에 대한 핵심요약을 30자 내로 짧게 정리해줘. 텍스트에 근거해서 답변해줘\n",
    "\n",
    "텍스트: {question}\n",
    "\"\"\", name=\"대응\")\n",
    "etc_prompt = PromptTemplate.from_template(\"\"\"\n",
    "핵심내용 위주로 30자 내로 짧게 요약 정리해줘\n",
    "\n",
    "텍스트: {question}\n",
    "\"\"\", name=\"기타\")\n",
    "\n",
    "### For Service Online\n",
    "phenomenon_announce_prompt = PromptTemplate.from_template(\"\"\"\n",
    "시간이나 장소를 포함한 현상을 대상과 수치를 함께 설명한 요약들로 30자 내로 짧게 정리해줘\n",
    "항상 \"미세플라스틱 현상을 설명 드립니다.\"를 답변앞에 붙여줘\n",
    "\n",
    "텍스트: {question}\n",
    "\"\"\", name=\"현상\")\n",
    "impact_announce_prompt = PromptTemplate.from_template(\"\"\"\n",
    "사람이나 동물에게 어떤 나쁜 영향이 있는지 속성과 수치를 함께 설명한 요약들을 30자 내로 짧게 정리해줘\n",
    "항상 \"미세플라스틱이 자연에 미치는 영향을 전달 드립니다.\"를 답변앞에 붙여줘\n",
    "\n",
    "텍스트: {question}\n",
    "\"\"\", name=\"영향\")\n",
    "response_announce_prompt = PromptTemplate.from_template(\"\"\"\n",
    "대응을 하는 주체, 어떤 대응을 했는지에 대한 핵심요약을 30자 내로 짧게 정리해줘. 텍스트에 근거해서 답변해줘\n",
    "항상 \"미세플라스틱의 대응 방안을 알려 드립니다.\"를 답변앞에 붙여줘\n",
    "\n",
    "텍스트: {question}\n",
    "\"\"\", name=\"대응\")\n",
    "etc_announce_prompt = PromptTemplate.from_template(\"\"\"\n",
    "핵심내용 위주로 30자 내로 짧게 요약 정리해줘\n",
    "항상 \"미세플라스틱과 관련해 설명 드립니다.\"를 답변앞에 붙여줘\n",
    "\n",
    "텍스트: {question}\n",
    "\"\"\", name=\"기타\")\n",
    "\n",
    "phenomenon_chain = phenomenon_prompt | llm\n",
    "impact_chain = impact_prompt | llm\n",
    "response_chain = response_prompt | llm\n",
    "etc_chain = etc_prompt | llm"
   ]
  },
  {
   "cell_type": "code",
   "execution_count": 463,
   "metadata": {},
   "outputs": [],
   "source": [
    "### Intent-based Branching Chain\n",
    "\n",
    "summarize_branch_chain = RunnableBranch(\n",
    "    (\n",
    "        lambda x: \"현상\" in x[\"intent\"], phenomenon_chain\n",
    "    ),\n",
    "    (\n",
    "        lambda x: \"영향\" in x[\"intent\"], impact_chain\n",
    "    ),\n",
    "    (\n",
    "        lambda x: \"대응\" in x[\"intent\"], response_chain\n",
    "    ),\n",
    "    etc_chain\n",
    ") | StrOutputParser()"
   ]
  },
  {
   "cell_type": "code",
   "execution_count": 464,
   "metadata": {},
   "outputs": [],
   "source": [
    "def summarize(doc):\n",
    "    summary = summarize_branch_chain.invoke(doc.page_content)\n",
    "    doc.page_content = summary\n",
    "    return doc\n",
    "\n",
    "intent_summary_doc_chain = (\n",
    "\n",
    "    RunnableParallel(\n",
    "        page_content=lambda x: summarize_branch_chain.invoke(x),\n",
    "        id=lambda x: x[\"id\"],\n",
    "        metadata=lambda x: x[\"metadata\"],\n",
    "    ) | RunnableLambda(lambda x: Document(**x))\n",
    ")\n",
    "\n",
    "intent_summary_chain = (\n",
    "    split_chunk_chain |\n",
    "    RunnableLambda(lambda chunks: intent_summary_doc_chain.batch(chunks))\n",
    ")"
   ]
  },
  {
   "cell_type": "markdown",
   "metadata": {},
   "source": [
    "### Retrieval and QA chains"
   ]
  },
  {
   "cell_type": "code",
   "execution_count": null,
   "metadata": {},
   "outputs": [],
   "source": [
    "def get_mrr(x: dict):\n",
    "    docs = x[\"docs\"]\n",
    "    doc_seq_nums = [doc.metadata[\"seq_num\"] for doc in docs]\n",
    "    print(doc_seq_nums)\n",
    "    uniq_seq_nums = list(set(doc_seq_nums))\n",
    "    rr_sums = dict([(seq_num, 0.0) for seq_num in uniq_seq_nums])\n",
    "    counts = dict([(seq_num, 0) for seq_num in uniq_seq_nums])\n",
    "    for rank, seq_num in enumerate(doc_seq_nums, 1):\n",
    "        rr_sums[seq_num] = rr_sums[seq_num] + 1./rank\n",
    "        counts[seq_num] += 1\n",
    "    mrr = dict([(seq_num, rr_sums[seq_num]/8.) for seq_num in uniq_seq_nums])\n",
    "    return mrr"
   ]
  },
  {
   "cell_type": "code",
   "execution_count": null,
   "metadata": {},
   "outputs": [],
   "source": [
    "expected_query_retrieval_chain = (\n",
    "    input_chain |\n",
    "    RunnableParallel(\n",
    "        docs=lambda question: expected_query_vector_db.similarity_search(\n",
    "            question,\n",
    "            k=8\n",
    "        )\n",
    "    ) |\n",
    "    RunnableLambda(get_mrr)\n",
    ")"
   ]
  },
  {
   "cell_type": "code",
   "execution_count": null,
   "metadata": {},
   "outputs": [],
   "source": [
    "intent_summary_retrieval_chain = (\n",
    "    input_chain |\n",
    "    RunnableParallel(\n",
    "        docs=lambda question: intent_summary_vector_db.similarity_search(\n",
    "            question,\n",
    "            k=8\n",
    "        )\n",
    "    ) |\n",
    "    RunnableLambda(get_mrr)\n",
    ")"
   ]
  },
  {
   "cell_type": "code",
   "execution_count": null,
   "metadata": {},
   "outputs": [],
   "source": [
    "bm25_retrieval_chain = (\n",
    "    input_chain |\n",
    "    keyword_extract_chain |\n",
    "    RunnableParallel(\n",
    "        docs=lambda keywords: bm25_retriever.invoke(re.sub(\"[-,\\s]+\", \" \", keywords), k=4)\n",
    "    ) |\n",
    "    RunnableLambda(get_mrr)\n",
    ")"
   ]
  },
  {
   "cell_type": "code",
   "execution_count": null,
   "metadata": {},
   "outputs": [],
   "source": [
    "mrr_weight = {\n",
    "    \"mrr_expected_query\": 0.3,\n",
    "    \"mrr_intent_summary\": 0.4,\n",
    "    \"mrr_bm25\": 0.3,\n",
    "}\n",
    "def weighted_mrr(mrr_doc_scores: dict):\n",
    "    mrr_names = mrr_doc_scores.keys()\n",
    "    seq_num_set = set()\n",
    "    for name in mrr_names:\n",
    "        seq_num_set.update(mrr_doc_scores[name].keys())\n",
    "    weighted_mrr = dict([(seq_num, 0.0) for seq_num in seq_num_set])\n",
    "\n",
    "    for name in mrr_names:\n",
    "        for seq_num, score in mrr_doc_scores[name].items():\n",
    "            weighted_mrr[seq_num] = weighted_mrr[seq_num] + mrr_weight[name] * score\n",
    "    return weighted_mrr\n",
    "\n",
    "retrieval_chain = (\n",
    "    RunnablePassthrough() |\n",
    "    RunnableParallel(\n",
    "        mrr_expected_query=lambda x: expected_query_retrieval_chain.invoke(x),\n",
    "        mrr_intent_summary=lambda x: intent_summary_retrieval_chain.invoke(x),\n",
    "        mrr_bm25=lambda x: bm25_retrieval_chain.invoke(x)\n",
    "    ) | \n",
    "    # RunnableLambda(weighted_mrr)\n",
    "    RunnableParallel(\n",
    "        mrr_expected_query=lambda x: x[\"mrr_expected_query\"],\n",
    "        mrr_intent_summary=lambda x: x[\"mrr_intent_summary\"],\n",
    "        mrr_bm25=lambda x: x[\"mrr_bm25\"],\n",
    "        weighted_mrr=lambda x: weighted_mrr(x)\n",
    "    )\n",
    ")"
   ]
  },
  {
   "cell_type": "code",
   "execution_count": null,
   "metadata": {},
   "outputs": [],
   "source": [
    "qa_chain = PromptTemplate.from_template(\n",
    "    \"\"\"\n",
    "    내용: {context}\n",
    "    질문: {question} 짧게 답변만 대답해줘\n",
    "    답변: \n",
    "    \"\"\"\n",
    ") | llm\n",
    "def get_top_context(mrr_scores: dict) -> str:\n",
    "    top_k_docs = sorted(mrr_scores.items(), key=lambda x: x[1], reverse=True)[0][:2]\n",
    "    documents: List[Document] = list()\n",
    "    for top_doc in top_k_docs:\n",
    "        documents.extend(chunk_vector_db.similarity_search(\"\", k=10, filter={\"seq_num\": top_doc}))\n",
    "    context = \"\\n\".join([d.page_content for d in documents])\n",
    "    return context\n",
    "\n",
    "retrieval_and_generation_chain = (\n",
    "    input_chain |\n",
    "    RunnablePassthrough.assign(mrr_scores=retrieval_chain) |\n",
    "    # RunnableLambda(retrieval_chain) |\n",
    "    RunnableParallel(\n",
    "        context=lambda x: RunnableLambda(lambda x: x[\"mrr_scores\"][\"weighted_mrr\"]) | RunnableLambda(get_top_context),\n",
    "        question=lambda x: x[\"question\"],\n",
    "        mrr_scores=lambda x: x[\"mrr_scores\"]\n",
    "    ) |\n",
    "    RunnableParallel(\n",
    "        answer=lambda x: qa_chain.invoke({\"context\": x[\"context\"], \"question\": x[\"question\"]}),\n",
    "        mrr_scores=lambda x: x[\"mrr_scores\"]\n",
    "    )\n",
    ")"
   ]
  },
  {
   "cell_type": "markdown",
   "metadata": {
    "vscode": {
     "languageId": "plaintext"
    }
   },
   "source": [
    "## Semantic Indexing"
   ]
  },
  {
   "cell_type": "code",
   "execution_count": 465,
   "metadata": {},
   "outputs": [],
   "source": [
    "documents = loader.load()"
   ]
  },
  {
   "cell_type": "markdown",
   "metadata": {},
   "source": [
    "### Chunk Vector DB"
   ]
  },
  {
   "cell_type": "code",
   "execution_count": 466,
   "metadata": {},
   "outputs": [],
   "source": [
    "chunk_splits = text_chunk_splitter.split_documents(documents)\n",
    "chunk_vector_db = FAISS.from_documents(documents=chunk_splits, embedding=embeddings)"
   ]
  },
  {
   "cell_type": "code",
   "execution_count": 467,
   "metadata": {},
   "outputs": [],
   "source": [
    "if update_vector_index[\"chunk\"]:\n",
    "    chunk_vector_db.save_local(chunk_vector_index_dirpath, \"vectors\")"
   ]
  },
  {
   "cell_type": "markdown",
   "metadata": {},
   "source": [
    "### Expected Query Vector DB"
   ]
  },
  {
   "cell_type": "code",
   "execution_count": 468,
   "metadata": {},
   "outputs": [],
   "source": [
    "if update_vector_index[\"expected_query\"]:\n",
    "    index = faiss.IndexFlatL2(len(embeddings.embed_query(\"hello world\")))\n",
    "    expected_query_vector_db = FAISS(\n",
    "        embedding_function=embeddings,\n",
    "        index=index,\n",
    "        docstore=InMemoryDocstore(),\n",
    "        index_to_docstore_id={}\n",
    "    )\n",
    "\n",
    "    for doc in loader.lazy_load():\n",
    "        batch_result = expected_query_chain.invoke(doc.page_content)\n",
    "        batch_docs = [\n",
    "            Document(\n",
    "                page_content=query,\n",
    "                metadata={\"seq_num\": doc.metadata[\"seq_num\"], \"expanded_query_seq_num\": query_seq})\n",
    "                for query_seq, query in enumerate(batch_result[\"expected_queries\"]\n",
    "            )\n",
    "        ]\n",
    "        expected_query_vector_db.add_documents(batch_docs)\n",
    "\n",
    "    expected_query_vector_db.save_local(expected_query_vector_index_dirpath)\n",
    "else:\n",
    "    expected_query_vector_db = FAISS.load_local(expected_query_vector_index_dirpath, embeddings=embeddings, allow_dangerous_deserialization=True)"
   ]
  },
  {
   "cell_type": "markdown",
   "metadata": {},
   "source": [
    "### Intent-based Summary Vector DB"
   ]
  },
  {
   "cell_type": "code",
   "execution_count": 469,
   "metadata": {},
   "outputs": [],
   "source": [
    "if update_vector_index[\"intent_summary\"]:\n",
    "    index = faiss.IndexFlatL2(len(embeddings.embed_query(\"hello world\")))\n",
    "    intent_summary_vector_db = FAISS(\n",
    "        embedding_function=embeddings,\n",
    "        index=index,\n",
    "        docstore=InMemoryDocstore(),\n",
    "        index_to_docstore_id={}\n",
    "    )\n",
    "    for doc in loader.lazy_load():\n",
    "        batch_docs = intent_summary_chain.invoke({\"question\": doc.page_content, \"seq_num\": doc.metadata[\"seq_num\"]})\n",
    "        intent_summary_vector_db.add_documents(batch_docs)\n",
    "\n",
    "    intent_summary_vector_db.save_local(intent_summary_vector_index_dirpath)\n",
    "else:\n",
    "    intent_summary_vector_db = FAISS.load_local(intent_summary_vector_index_dirpath, embeddings=embeddings, allow_dangerous_deserialization=True)"
   ]
  },
  {
   "cell_type": "markdown",
   "metadata": {},
   "source": [
    "## Retrieve and QA Pipeline"
   ]
  },
  {
   "cell_type": "code",
   "execution_count": 470,
   "metadata": {},
   "outputs": [
    {
     "data": {
      "text/plain": [
       "'대응'"
      ]
     },
     "execution_count": 470,
     "metadata": {},
     "output_type": "execute_result"
    }
   ],
   "source": [
    "intent_chain.invoke({\"question\": question})"
   ]
  },
  {
   "cell_type": "code",
   "execution_count": 471,
   "metadata": {},
   "outputs": [
    {
     "data": {
      "text/plain": [
       "{'intent': '대응',\n",
       " 'sentence_type': '질문형',\n",
       " 'keywords': '연구, 미세플라스틱, 햇빛, 오염줄질, 미국대학교'}"
      ]
     },
     "execution_count": 471,
     "metadata": {},
     "output_type": "execute_result"
    }
   ],
   "source": [
    "(input_chain | preproc_chain).invoke({\"question\": question})"
   ]
  },
  {
   "cell_type": "markdown",
   "metadata": {},
   "source": [
    "### Document Retrieval via Expected Queries Vector"
   ]
  },
  {
   "cell_type": "code",
   "execution_count": 472,
   "metadata": {},
   "outputs": [
    {
     "name": "stdout",
     "output_type": "stream",
     "text": [
      "[{'seq_num': 1, 'expanded_query_seq_num': 2}] 연구 결과에 따르면, 미세플라스틱은 어떤 요인에 노출되면 표면 입자가 변형되어 오염 물질을 더 잘 흡수하는 상태로 변형되는 거래?\n",
      "================================================================================================================================================================================================================================================================\n",
      "\n",
      "[{'seq_num': 2, 'expanded_query_seq_num': 3}] 이 조약이 작성된 배경은 무엇이며, 왜 작성되었다고 하나요?\n",
      "================================================================================================================================================================================================================================================================\n",
      "\n",
      "[{'seq_num': 4, 'expanded_query_seq_num': 0}] 플라스틱병에 든 생수에 미세플라스틱이 많이 함유되어 있다는 연구결과가 어떻게 발표되었나요?\n",
      "================================================================================================================================================================================================================================================================\n",
      "\n",
      "[{'seq_num': 4, 'expanded_query_seq_num': 2}] 먹는물네트워크와 대한환경공학회가 주최한 ‘생수와 미세플라스틱, 안전한 먹는 물을 위한 공동 노력’ 포럼이 열린 곳과 날짜는 언제였나요?\n",
      "================================================================================================================================================================================================================================================================\n",
      "\n",
      "[{'seq_num': 2, 'expanded_query_seq_num': 7}] 조약에 따르면, 각 국가가 수행해야 하는 플라스틱 관련 의무는 무엇이죠?\n",
      "================================================================================================================================================================================================================================================================\n",
      "\n",
      "[{'seq_num': 1, 'expanded_query_seq_num': 1}] 미국 애리조나 주립대학의 연구에서 확인된 미세플라스틱의 유해화학물질 흡수 증가 현상에 대해 자세히 말해줘\n",
      "================================================================================================================================================================================================================================================================\n",
      "\n",
      "[{'seq_num': 2, 'expanded_query_seq_num': 4}] 어떤 기업이 플라스틱 생산 및 사용에 영향을 받게 될까요?\n",
      "================================================================================================================================================================================================================================================================\n",
      "\n",
      "[{'seq_num': 4, 'expanded_query_seq_num': 4}] 호주 연구팀에 따르면 인간이 매주 얼마나 많은 미세 플라스틱을 섭취하는 것으로 추산되는가요?\n"
     ]
    }
   ],
   "source": [
    "docs = expected_query_vector_db.similarity_search_with_score(\n",
    "    \"유엔환경계획 조약 관련 질문\",\n",
    "    k=8,\n",
    "    # filter={\"seq_num\":1}\n",
    ")\n",
    "# pretty_print_docs(docs)\n",
    "print(f'\\n{\"=\"*256}\\n\\n'.join([f'[{doc[0].metadata}] {doc[0].page_content}' for doc in docs]))"
   ]
  },
  {
   "cell_type": "code",
   "execution_count": 522,
   "metadata": {},
   "outputs": [
    {
     "name": "stdout",
     "output_type": "stream",
     "text": [
      "[3, 4, 2, 3, 2, 4, 3, 4]\n"
     ]
    },
    {
     "data": {
      "text/plain": [
       "{2: 0.06666666666666667, 3: 0.17410714285714285, 4: 0.09895833333333333}"
      ]
     },
     "execution_count": 522,
     "metadata": {},
     "output_type": "execute_result"
    }
   ],
   "source": [
    "    # \"국제사회의 플라스틱 오염 인식\",\n",
    "question = \"화학물질이나 고분자 수입자 규정\"\n",
    "question = \"유엔환경계획 조약 관련 질문\"\n",
    "question = \"미세플라스틱 햇빛 노출 연구 대학\"\n",
    "question = \"정부의 미세플라스틱 정책 부족 비판\"\n",
    "question = \"페트병 생수 나노 플라스틱 검출 수\"\n",
    "\n",
    "expected_query_retrieval_chain.invoke(question)"
   ]
  },
  {
   "cell_type": "code",
   "execution_count": 477,
   "metadata": {},
   "outputs": [
    {
     "data": {
      "text/plain": [
       "[(Document(metadata={'seq_num': 1, 'chunk_seq_num': 1}, page_content='미세플라스틱, 햇빛 등 노출로 표면 변형 후 유해화학물질흡수 증가(애리조나 주립대학 연구 결과)'),\n",
       "  21431.03),\n",
       " (Document(metadata={'seq_num': 4, 'chunk_seq_num': 4}, page_content='생수, 미세플라스틱 함유, 위해성 평가 필요(2017년 환경부 조사 당시 생수 1개 제품에서 1개 입자 검출된 바 있음)'),\n",
       "  21858.494),\n",
       " (Document(metadata={'seq_num': 2, 'chunk_seq_num': 0}, page_content='유엔환경계획은 글로벌 조약 초안에서 플라스틱 오염을 줄이기 위해 우려되는 화학물질 및 고분자 사용을 금지하고, 국가정책기관에 의한 제도적 변화를 통해 기업에 영향을 미치도록 함.'),\n",
       "  22774.396),\n",
       " (Document(metadata={'seq_num': 3, 'chunk_seq_num': 4}, page_content='- 태평양 해양쓰레기 청소 시 장벽 발생: 출입국 비자 문제, 관세, 항구 접근 제한 등\\n- 하천 쓰레기 청소 미흡: 플라스틱 유입 통로인 하천에 대한 대처 부족\\n- 2040년 미세플라스틱 증가 예상: 현재의 2.6배까지 증가 가능성\\n- 해양쓰레기 영향 심각: 해양생태계, 관련 산업 등에 악영향 지속'),\n",
       "  23569.344),\n",
       " (Document(metadata={'seq_num': 2, 'chunk_seq_num': 7}, page_content='유엔환경계획은 전 세계적으로 플라스틱 오염을 줄이기 위한 새로운 글로벌 조약 초안*을 발표함.'),\n",
       "  24181.93),\n",
       " (Document(metadata={'seq_num': 4, 'chunk_seq_num': 1}, page_content='- 2017년 환경부 조사: 생수 한 개 제품에서 1개 입자 검출\\n- 지난해 노르웨이, 중국, 벨기에 공동연구팀 조사 결과: 페트병 생수 1㎖ 평균 1억6600만개 나노플라스틱 검출 (4개 브랜드)'),\n",
       "  24384.39),\n",
       " (Document(metadata={'seq_num': 4, 'chunk_seq_num': 5}, page_content='- 생수에서 미세플라스틱 검출: 2017년 환경부 조사 당시엔 생수 한 개 제품에서 1개 입자만이 검출되었지만, 지난해 노르웨이 등 공동연구팀 조사 결과에서는 페트병 생수 1㎖에서 평균 1억6600만개의 나노플라스틱이 검출.\\n- 미세플라스틱 유래: 인간이 만들어낸 물건에서 떨어져 나간 작은 플라스틱 조각으로 대기, 담수, 해양, 지하수, 토양 등 모든 곳에 흩뿌려져 있음.\\n- 미세플라스틱의 위해성: 동물의 신체에 심각한 건강 악영향을 유발하며 장염증과 누수 증가, 행동저해, 자폐 스펙트럼 및 관련된 행동학적 변화 등이 관찰됨.\\n- 정부 차원의 대응 필요성: 미세플라스틱 오염에 대한 우려 커지고 있지만, 정부 정책은 우려를 불식시키지 못하고 있으며 유해성 평가 방법과 분석 프로토콜, 대응 방안 등에 관한 연구와 다 부처적인 협업이 필요.'),\n",
       "  24618.52),\n",
       " (Document(metadata={'seq_num': 4, 'chunk_seq_num': 2}, page_content='- 생수에서 미세플라스틱 검출 증가 (2017년 1개 입자 → 지난해 평균 1억6600만개)\\n- 인체 내 매주 신용카드 1장 분량 섭취 추산\\n- 동물 실험에서 장염, 누수, 행동저해 등의 영향 보고 (국내 및 해외 연구 결과)'),\n",
       "  24663.156)]"
      ]
     },
     "execution_count": 477,
     "metadata": {},
     "output_type": "execute_result"
    }
   ],
   "source": [
    "intent_summary_vector_db.similarity_search_with_score(\n",
    "    question,\n",
    "    k=8\n",
    ")"
   ]
  },
  {
   "cell_type": "code",
   "execution_count": 526,
   "metadata": {},
   "outputs": [
    {
     "name": "stdout",
     "output_type": "stream",
     "text": [
      "[1, 1, 1, 4, 1, 4, 3, 2]\n"
     ]
    },
    {
     "data": {
      "text/plain": [
       "{1: 0.25416666666666665,\n",
       " 2: 0.015625,\n",
       " 3: 0.017857142857142856,\n",
       " 4: 0.05208333333333333}"
      ]
     },
     "execution_count": 526,
     "metadata": {},
     "output_type": "execute_result"
    }
   ],
   "source": [
    "    # \"국제사회의 플라스틱 오염 인식\",\n",
    "question = \"유엔환경계획 조약 관련 질문\"\n",
    "question = \"페트병 생수 나노 플라스틱 검출 수\"\n",
    "question = \"정부의 미세플라스틱 정책 부족 비판\"\n",
    "question = \"화학물질이나 고분자 수입자 규정\"\n",
    "question = \"미세플라스틱 햇빛 노출 연구 대학\"\n",
    "\n",
    "intent_summary_retrieval_chain.invoke(question)"
   ]
  },
  {
   "cell_type": "code",
   "execution_count": 481,
   "metadata": {},
   "outputs": [
    {
     "name": "stdout",
     "output_type": "stream",
     "text": [
      "[4, 1, 2, 3]\n"
     ]
    },
    {
     "data": {
      "text/plain": [
       "{1: 0.0625, 2: 0.041666666666666664, 3: 0.03125, 4: 0.125}"
      ]
     },
     "execution_count": 481,
     "metadata": {},
     "output_type": "execute_result"
    }
   ],
   "source": [
    "bm25_retrieval_chain.invoke(question)"
   ]
  },
  {
   "cell_type": "markdown",
   "metadata": {},
   "source": [
    "### Generate Answer with Retrieved Documents using Weighted AVG MRR"
   ]
  },
  {
   "cell_type": "code",
   "execution_count": 521,
   "metadata": {},
   "outputs": [
    {
     "name": "stdout",
     "output_type": "stream",
     "text": [
      "[3, 1, 4, 4, 3, 2, 4, 2]\n",
      "[1, 4, 4, 3, 2, 4, 1, 3]\n",
      "[4, 3, 2, 1]\n"
     ]
    },
    {
     "data": {
      "text/plain": [
       "{'answer': AIMessage(content='매주 먹는 미세플라스틱의 양은 평균적으로 약 0.1~0.2 g 정도입니다.\\n\\n', response_metadata={'model': 'tiger-gemma2', 'created_at': '2024-08-09T04:01:03.557274871Z', 'message': {'role': 'assistant', 'content': ''}, 'done_reason': 'stop', 'done': True, 'total_duration': 1256748342, 'load_duration': 29211560, 'prompt_eval_count': 606, 'prompt_eval_duration': 212304000, 'eval_count': 32, 'eval_duration': 961059000}, id='run-10cbb36f-2239-467a-b053-6cedfcefadec-0', usage_metadata={'input_tokens': 606, 'output_tokens': 32, 'total_tokens': 638}),\n",
       " 'mrr_scores': {'mrr_expected_query': {1: 0.0625,\n",
       "   2: 0.03645833333333333,\n",
       "   3: 0.15,\n",
       "   4: 0.0907738095238095},\n",
       "  'mrr_intent_summary': {1: 0.14285714285714285,\n",
       "   2: 0.025,\n",
       "   3: 0.046875,\n",
       "   4: 0.12499999999999999},\n",
       "  'mrr_bm25': {1: 0.03125, 2: 0.041666666666666664, 3: 0.0625, 4: 0.125},\n",
       "  'weighted_mrr': {1: 0.08526785714285713,\n",
       "   2: 0.033437499999999995,\n",
       "   3: 0.0825,\n",
       "   4: 0.11473214285714284}}}"
      ]
     },
     "execution_count": 521,
     "metadata": {},
     "output_type": "execute_result"
    }
   ],
   "source": [
    "question = \"매주 1인당 섭취하는 플라스틱 양은?\"\n",
    "question = \"1인당 섭취하는 플라스틱 양은?\"\n",
    "question = \"미세플라스틱 오염에 우려가 커진다고 말한 사람은 누구야?\"\n",
    "# question = \"시중에서 판매되는 4개 브랜드의 페트병 생수 미세플라스틱을 검출한 나라들은 어디인가요?\"\n",
    "question = '미세플라스틱의 위해성 평가와 정부 차원의 대응에 대한 목소리에서 특히 중요한 부분은 무엇인가요?'\n",
    "question = \"한사람이 매주 먹는 미세플라스틱 양\"\n",
    "\n",
    "retrieval_and_generation_chain.invoke(question)"
   ]
  },
  {
   "cell_type": "code",
   "execution_count": 501,
   "metadata": {},
   "outputs": [
    {
     "data": {
      "text/plain": [
       "{'_dict': {'1eb71158-c05e-4cbe-9e76-d91e59207d98': Document(metadata={'seq_num': 1, 'expanded_query_seq_num': 0}, page_content='미세플라스틱의 노후화 과정에서 유해 화학 물질 흡수가 증가한 점을 설명해줘'),\n",
       "  'c6804b18-bd81-4195-8163-1c6b8e3b1c6e': Document(metadata={'seq_num': 1, 'expanded_query_seq_num': 1}, page_content='미국 애리조나 주립대학의 연구에서 확인된 미세플라스틱의 유해화학물질 흡수 증가 현상에 대해 자세히 말해줘'),\n",
       "  '2311e930-e854-4e43-91f5-779e4600990c': Document(metadata={'seq_num': 1, 'expanded_query_seq_num': 2}, page_content='연구 결과에 따르면, 미세플라스틱은 어떤 요인에 노출되면 표면 입자가 변형되어 오염 물질을 더 잘 흡수하는 상태로 변형되는 거래?'),\n",
       "  '80a28bec-a586-4037-b723-079f445fbe05': Document(metadata={'seq_num': 1, 'expanded_query_seq_num': 3}, page_content='연구팀이 사용한 인위적으로 생성된 미세플라스틱의 종류는 무엇이며, 이를 풍화시키기 위해 어떤 방법을 사용했나요?'),\n",
       "  '727c8fd9-2028-4678-a1a6-7ec5426ecf5f': Document(metadata={'seq_num': 1, 'expanded_query_seq_num': 4}, page_content='풍화 과정에서 오염 물질 모델인 페난트렌과 메틸렌 블루에 노출된 후에 일어난 현상이 무엇입니까?'),\n",
       "  '9d2af67e-227e-405c-9a32-deb4c0757a3f': Document(metadata={'seq_num': 1, 'expanded_query_seq_num': 5}, page_content='미세플라스틱의 표면 풍화가 오염물질의 흡착에 어떤 영향을 미쳤는지 설명해줘'),\n",
       "  'e3c689ea-7e14-4d9b-9201-0c6a3173966a': Document(metadata={'seq_num': 1, 'expanded_query_seq_num': 6}, page_content='연구팀은 모델 시스템에서 보여준 미세플라스틱 노후화의 초기 단계를 실제 환경과 비교하여 어떤 차이점이나 공통점이 있나요?'),\n",
       "  '13eedbfc-6b5f-4feb-a4e4-1b72b1f7102f': Document(metadata={'seq_num': 1, 'expanded_query_seq_num': 7}, page_content='실제 환경에서 수십 년 동안 풍화된 미세플라스'),\n",
       "  '83c334fb-d40e-4ccc-b87d-e37ab2b1bd5c': Document(metadata={'seq_num': 2, 'expanded_query_seq_num': 0}, page_content='유엔환경계획(UNEP)이 발표한 새로운 글로벌 조약 초안은 무엇과 관련되어 있나요?'),\n",
       "  'ac05f6d1-afc4-4f90-b0fc-3d694aa93061': Document(metadata={'seq_num': 2, 'expanded_query_seq_num': 1}, page_content='‘제로 초안(zero draft)’이라는 용어는 무슨 의미를 가지나요?'),\n",
       "  '136598b3-c7cd-4116-a22f-ba9fe8ed2ec7': Document(metadata={'seq_num': 2, 'expanded_query_seq_num': 2}, page_content='UNEP의 목표는 언제까지 조약을 완성하는 것입니다.'),\n",
       "  '7fce5f1c-ca32-4667-8226-2b7a69c171ab': Document(metadata={'seq_num': 2, 'expanded_query_seq_num': 3}, page_content='이 조약이 작성된 배경은 무엇이며, 왜 작성되었다고 하나요?'),\n",
       "  '2521ba3d-a86f-4e74-a7d5-17ddfd89a56e': Document(metadata={'seq_num': 2, 'expanded_query_seq_num': 4}, page_content='어떤 기업이 플라스틱 생산 및 사용에 영향을 받게 될까요?'),\n",
       "  '240cb042-a42c-48a4-a5ee-9f67aef232a2': Document(metadata={'seq_num': 2, 'expanded_query_seq_num': 5}, page_content='조약 초안에서 명시한 요구사항과 국가 정책기관의 관계는 무엇인가요?'),\n",
       "  'a9fec024-7cbc-4fc5-a888-65ca7824884d': Document(metadata={'seq_num': 2, 'expanded_query_seq_num': 6}, page_content='‘방지 및 제거’라는 용어는 어떤 맥락에서 쓰였나요?'),\n",
       "  'c11f2c29-f5fd-4772-8ed7-7b3c3ff2bd67': Document(metadata={'seq_num': 2, 'expanded_query_seq_num': 7}, page_content='조약에 따르면, 각 국가가 수행해야 하는 플라스틱 관련 의무는 무엇이죠?'),\n",
       "  'aa6f1ac3-5003-4873-8a29-e268761ee6dd': Document(metadata={'seq_num': 2, 'expanded_query_seq_num': 8}, page_content='화학첨가제를 제조하는 기업은 조약 초안의 내용을 어떻게 받아들여야 하나요?'),\n",
       "  '8ab7d5e6-05c9-4772-94c3-9fcb4c3858d9': Document(metadata={'seq_num': 2, 'expanded_query_seq_num': 9}, page_content='플라스틱 생산에 사용되는 우려되는 화학물질 및 고분자 정의는 무엇인가요?'),\n",
       "  '02b71c40-15cf-45cd-aa88-258551e72990': Document(metadata={'seq_num': 2, 'expanded_query_seq_num': 10}, page_content='각 국가가 플라스틱 사용을 최소화하는 방안은 무엇이 있나요?'),\n",
       "  '3073f356-5200-4024-8911-560f9158e639': Document(metadata={'seq_num': 2, 'expanded_query_seq_num': 11}, page_content='조약 초안에서 제시된 3가지'),\n",
       "  'facfc2bb-ba0f-4190-9db5-7cf9f743e23d': Document(metadata={'seq_num': 3, 'expanded_query_seq_num': 0}, page_content='## 태평양 플라스틱 해양쓰레기 청소 관련 문장에서 만들 수 있는 핵심질문 21가지:'),\n",
       "  '2e8be61f-c283-451f-90c6-c6b126ce00b7': Document(metadata={'seq_num': 3, 'expanded_query_seq_num': 1}, page_content='APEC은 해양쓰레기를 청소하면서 무역장벽으로 어려움을 느꼈나요?'),\n",
       "  '96ad694f-310e-4639-a0aa-e948b2968551': Document(metadata={'seq_num': 3, 'expanded_query_seq_num': 2}, page_content='해양쓰레기 청소 과정에서 발생하는 문제는 무엇인가요?'),\n",
       "  '69091b93-a48d-4d21-b05e-19a8f75a9652': Document(metadata={'seq_num': 3, 'expanded_query_seq_num': 3}, page_content='출입국 비자 문제, 관세, 접근 제한이 해양쓰레기 청소에 어떤 영향을 미쳤나요?'),\n",
       "  '21ba4e9d-f57d-4e67-af7e-abd736d56756': Document(metadata={'seq_num': 3, 'expanded_query_seq_num': 4}, page_content='해변 쓰레기 청소와 하천 쓰레기 청소의 차이점은 무엇인가요?'),\n",
       "  '7194d6fa-9d49-4e64-93b1-618adcd6d9b1': Document(metadata={'seq_num': 3, 'expanded_query_seq_num': 5}, page_content='플라스틱 쓰레기가 바다로 유입되는 통로인 하천의 문제는 무엇인가요?'),\n",
       "  '8d476d39-f633-4441-b705-8d257d61d70f': Document(metadata={'seq_num': 4, 'expanded_query_seq_num': 0}, page_content='플라스틱병에 든 생수에 미세플라스틱이 많이 함유되어 있다는 연구결과가 어떻게 발표되었나요?'),\n",
       "  '1462807b-6e1d-4c37-93ee-071c3baf92f0': Document(metadata={'seq_num': 4, 'expanded_query_seq_num': 1}, page_content='미세플라스틱의 위해성 평가와 정부 차원의 대응에 대한 목소리에서 특히 중요한 부분은 무엇인가요?'),\n",
       "  '3cfd03db-95c1-491b-ad02-3ea7d99fb5ac': Document(metadata={'seq_num': 4, 'expanded_query_seq_num': 2}, page_content='먹는물네트워크와 대한환경공학회가 주최한 ‘생수와 미세플라스틱, 안전한 먹는 물을 위한 공동 노력’ 포럼이 열린 곳과 날짜는 언제였나요?'),\n",
       "  'a2228104-afaf-4cc3-a5a1-cc48cd35ea27': Document(metadata={'seq_num': 4, 'expanded_query_seq_num': 3}, page_content='2017년 환경부 조사 당시 생수 한 개 제품에서 검출된 미세플라스틱의 수와 지난해 노르웨이, 중국, 벨기에 등 공동연구팀 조사 결과가 어떻게 다른지 설명해주세요.'),\n",
       "  '50573c42-95f3-4ed7-abd7-19d2b634b06a': Document(metadata={'seq_num': 4, 'expanded_query_seq_num': 4}, page_content='호주 연구팀에 따르면 인간이 매주 얼마나 많은 미세 플라스틱을 섭취하는 것으로 추산되는가요?'),\n",
       "  '91b4ceb7-80f9-47cb-8b26-3314c83cc1d1': Document(metadata={'seq_num': 4, 'expanded_query_seq_num': 5}, page_content='보통 미세플라스틱은 무엇을 말하며, 나노 플라스틱은 어떤 기준으로 분류되나요?'),\n",
       "  'd4f09645-2268-4aff-8697-b88ab584f74f': Document(metadata={'seq_num': 4, 'expanded_query_seq_num': 6}, page_content='인간이 만들어낸 물건에서 발생한 미세플라스틱 조각이 어떤 환경에 퍼져나가는')}}"
      ]
     },
     "execution_count": 501,
     "metadata": {},
     "output_type": "execute_result"
    }
   ],
   "source": [
    "expected_query_vector_db.docstore.__dict__"
   ]
  },
  {
   "cell_type": "code",
   "execution_count": 503,
   "metadata": {},
   "outputs": [
    {
     "data": {
      "text/plain": [
       "'미세플라스틱 오염에 우려가 커진다고 말한 사람은 누구야?'"
      ]
     },
     "execution_count": 503,
     "metadata": {},
     "output_type": "execute_result"
    }
   ],
   "source": [
    "question"
   ]
  },
  {
   "cell_type": "code",
   "execution_count": 502,
   "metadata": {},
   "outputs": [
    {
     "data": {
      "text/plain": [
       "[(Document(metadata={'seq_num': 2, 'expanded_query_seq_num': 2}, page_content='UNEP의 목표는 언제까지 조약을 완성하는 것입니다.'),\n",
       "  13541.711),\n",
       " (Document(metadata={'seq_num': 2, 'expanded_query_seq_num': 1}, page_content='‘제로 초안(zero draft)’이라는 용어는 무슨 의미를 가지나요?'),\n",
       "  13581.148),\n",
       " (Document(metadata={'seq_num': 1, 'expanded_query_seq_num': 4}, page_content='풍화 과정에서 오염 물질 모델인 페난트렌과 메틸렌 블루에 노출된 후에 일어난 현상이 무엇입니까?'),\n",
       "  13625.66),\n",
       " (Document(metadata={'seq_num': 2, 'expanded_query_seq_num': 3}, page_content='이 조약이 작성된 배경은 무엇이며, 왜 작성되었다고 하나요?'),\n",
       "  13778.119),\n",
       " (Document(metadata={'seq_num': 4, 'expanded_query_seq_num': 0}, page_content='플라스틱병에 든 생수에 미세플라스틱이 많이 함유되어 있다는 연구결과가 어떻게 발표되었나요?'),\n",
       "  14004.192),\n",
       " (Document(metadata={'seq_num': 4, 'expanded_query_seq_num': 1}, page_content='미세플라스틱의 위해성 평가와 정부 차원의 대응에 대한 목소리에서 특히 중요한 부분은 무엇인가요?'),\n",
       "  14834.953),\n",
       " (Document(metadata={'seq_num': 3, 'expanded_query_seq_num': 2}, page_content='해양쓰레기 청소 과정에서 발생하는 문제는 무엇인가요?'),\n",
       "  14877.024),\n",
       " (Document(metadata={'seq_num': 2, 'expanded_query_seq_num': 0}, page_content='유엔환경계획(UNEP)이 발표한 새로운 글로벌 조약 초안은 무엇과 관련되어 있나요?'),\n",
       "  15078.742)]"
      ]
     },
     "execution_count": 502,
     "metadata": {},
     "output_type": "execute_result"
    }
   ],
   "source": [
    "expected_query_vector_db.similarity_search_with_score(\n",
    "    question,\n",
    "    k=8\n",
    ")"
   ]
  },
  {
   "cell_type": "code",
   "execution_count": null,
   "metadata": {},
   "outputs": [],
   "source": []
  },
  {
   "cell_type": "code",
   "execution_count": 428,
   "metadata": {},
   "outputs": [
    {
     "data": {
      "text/plain": [
       "[Document(metadata={'source': '/mnt/d/temp/user/ed/mart/mmplastic/20240725_154000_000000/data.json', 'seq_num': 3, 'title': 'APEC 국가간 무역장벽, 태평양 해양쓰레기 청소 방해', 'date': '2022-12-18'}, page_content='태평양의 플라스틱 등 해양쓰레기 청소가 국가 간 무역장벽의 방해를 받고 있다고 아시아태평양경제협력체(APEC)가 진단했다.'),\n",
       " Document(metadata={'source': '/mnt/d/temp/user/ed/mart/mmplastic/20240725_154000_000000/data.json', 'seq_num': 3, 'title': 'APEC 국가간 무역장벽, 태평양 해양쓰레기 청소 방해', 'date': '2022-12-18'}, page_content='또 해변 쓰레기 청소는 수십 년간 진행돼 왔으나, 플라스틱 쓰레기 등이 바다로 유입되는 통로인 하천에 대한 청소는 제대로 이뤄지지 않고 있다고 지적했다.\\n\\n결국 이들 미세 플라스틱 부유물은 태평양 3대 거대 쓰레기 지역으로 모인 뒤 바람과 해류들로 인해 잘게 분쇄돼 해저로 침전된다.'),\n",
       " Document(metadata={'source': '/mnt/d/temp/user/ed/mart/mmplastic/20240725_154000_000000/data.json', 'seq_num': 3, 'title': 'APEC 국가간 무역장벽, 태평양 해양쓰레기 청소 방해', 'date': '2022-12-18'}, page_content='이처럼 해저에 가라앉는 미세플라스틱의 규모가 2040년에는 현재의 2.6배나 될 것으로 우려된다.\\n\\n이들 플라스틱 쓰레기가 해상과 해변 생태계, 이들 생태계에 의존하는 산업계에 미치는 영향을 가늠하기조차 쉽지 않다고 APEC은 지적했다.'),\n",
       " Document(metadata={'source': '/mnt/d/temp/user/ed/mart/mmplastic/20240725_154000_000000/data.json', 'seq_num': 3, 'title': 'APEC 국가간 무역장벽, 태평양 해양쓰레기 청소 방해', 'date': '2022-12-18'}, page_content='15일(현지시간) 블룸버그통신에 따르면 APEC은 해양쓰레기를 청소하는 과정에서 출입국 비자 문제, 관련 장비에 대한 관세, 현지 항구·폐기물 관리시설에 대한 접근 제한 등 다양한 무역 장벽의 방해를 받고 있다고 최신 회보에서 밝혔다.'),\n",
       " Document(metadata={'source': '/mnt/d/temp/user/ed/mart/mmplastic/20240725_154000_000000/data.json', 'seq_num': 3, 'title': 'APEC 국가간 무역장벽, 태평양 해양쓰레기 청소 방해', 'date': '2022-12-18'}, page_content='다만 APEC의 2020년 연구에 따르면 해상쓰레기가 다양한 산업계에 미치는 직접적인 영향이 최근 몇 년간 크게 증가했다.\\n\\n과거 연구에서는 이들 쓰레기가 관광과 교통, 양식산업 등에 미치는 피해 규모가 109억달러(약 14조3천억원)에 달하는 것으로 추산됐다.')]"
      ]
     },
     "execution_count": 428,
     "metadata": {},
     "output_type": "execute_result"
    }
   ],
   "source": [
    "chunk_vector_db.similarity_search(\n",
    "    question, filter={\"seq_num\": 3}, k=10\n",
    ")"
   ]
  },
  {
   "cell_type": "code",
   "execution_count": 429,
   "metadata": {},
   "outputs": [
    {
     "data": {
      "text/plain": [
       "[Document(metadata={'source': '/mnt/d/temp/user/ed/mart/mmplastic/20240725_154000_000000/data.json', 'seq_num': 3, 'title': 'APEC 국가간 무역장벽, 태평양 해양쓰레기 청소 방해', 'date': '2022-12-18'}, page_content='태평양의 플라스틱 등 해양쓰레기 청소가 국가 간 무역장벽의 방해를 받고 있다고 아시아태평양경제협력체(APEC)가 진단했다.'),\n",
       " Document(metadata={'source': '/mnt/d/temp/user/ed/mart/mmplastic/20240725_154000_000000/data.json', 'seq_num': 3, 'title': 'APEC 국가간 무역장벽, 태평양 해양쓰레기 청소 방해', 'date': '2022-12-18'}, page_content='또 해변 쓰레기 청소는 수십 년간 진행돼 왔으나, 플라스틱 쓰레기 등이 바다로 유입되는 통로인 하천에 대한 청소는 제대로 이뤄지지 않고 있다고 지적했다.\\n\\n결국 이들 미세 플라스틱 부유물은 태평양 3대 거대 쓰레기 지역으로 모인 뒤 바람과 해류들로 인해 잘게 분쇄돼 해저로 침전된다.'),\n",
       " Document(metadata={'source': '/mnt/d/temp/user/ed/mart/mmplastic/20240725_154000_000000/data.json', 'seq_num': 3, 'title': 'APEC 국가간 무역장벽, 태평양 해양쓰레기 청소 방해', 'date': '2022-12-18'}, page_content='이처럼 해저에 가라앉는 미세플라스틱의 규모가 2040년에는 현재의 2.6배나 될 것으로 우려된다.\\n\\n이들 플라스틱 쓰레기가 해상과 해변 생태계, 이들 생태계에 의존하는 산업계에 미치는 영향을 가늠하기조차 쉽지 않다고 APEC은 지적했다.'),\n",
       " Document(metadata={'source': '/mnt/d/temp/user/ed/mart/mmplastic/20240725_154000_000000/data.json', 'seq_num': 3, 'title': 'APEC 국가간 무역장벽, 태평양 해양쓰레기 청소 방해', 'date': '2022-12-18'}, page_content='15일(현지시간) 블룸버그통신에 따르면 APEC은 해양쓰레기를 청소하는 과정에서 출입국 비자 문제, 관련 장비에 대한 관세, 현지 항구·폐기물 관리시설에 대한 접근 제한 등 다양한 무역 장벽의 방해를 받고 있다고 최신 회보에서 밝혔다.'),\n",
       " Document(metadata={'source': '/mnt/d/temp/user/ed/mart/mmplastic/20240725_154000_000000/data.json', 'seq_num': 3, 'title': 'APEC 국가간 무역장벽, 태평양 해양쓰레기 청소 방해', 'date': '2022-12-18'}, page_content='다만 APEC의 2020년 연구에 따르면 해상쓰레기가 다양한 산업계에 미치는 직접적인 영향이 최근 몇 년간 크게 증가했다.\\n\\n과거 연구에서는 이들 쓰레기가 관광과 교통, 양식산업 등에 미치는 피해 규모가 109억달러(약 14조3천억원)에 달하는 것으로 추산됐다.')]"
      ]
     },
     "execution_count": 429,
     "metadata": {},
     "output_type": "execute_result"
    }
   ],
   "source": [
    "chunk_vector_db.search(\n",
    "    question, filter={\"seq_num\": 3}, search_type=\"similarity\", k=10\n",
    ")"
   ]
  },
  {
   "cell_type": "code",
   "execution_count": 430,
   "metadata": {},
   "outputs": [
    {
     "data": {
      "text/plain": [
       "[Document(metadata={'source': '/mnt/d/temp/user/ed/mart/mmplastic/20240725_154000_000000/data.json', 'seq_num': 3, 'title': 'APEC 국가간 무역장벽, 태평양 해양쓰레기 청소 방해', 'date': '2022-12-18'}, page_content='태평양의 플라스틱 등 해양쓰레기 청소가 국가 간 무역장벽의 방해를 받고 있다고 아시아태평양경제협력체(APEC)가 진단했다.'),\n",
       " Document(metadata={'source': '/mnt/d/temp/user/ed/mart/mmplastic/20240725_154000_000000/data.json', 'seq_num': 3, 'title': 'APEC 국가간 무역장벽, 태평양 해양쓰레기 청소 방해', 'date': '2022-12-18'}, page_content='다만 APEC의 2020년 연구에 따르면 해상쓰레기가 다양한 산업계에 미치는 직접적인 영향이 최근 몇 년간 크게 증가했다.\\n\\n과거 연구에서는 이들 쓰레기가 관광과 교통, 양식산업 등에 미치는 피해 규모가 109억달러(약 14조3천억원)에 달하는 것으로 추산됐다.'),\n",
       " Document(metadata={'source': '/mnt/d/temp/user/ed/mart/mmplastic/20240725_154000_000000/data.json', 'seq_num': 3, 'title': 'APEC 국가간 무역장벽, 태평양 해양쓰레기 청소 방해', 'date': '2022-12-18'}, page_content='또 해변 쓰레기 청소는 수십 년간 진행돼 왔으나, 플라스틱 쓰레기 등이 바다로 유입되는 통로인 하천에 대한 청소는 제대로 이뤄지지 않고 있다고 지적했다.\\n\\n결국 이들 미세 플라스틱 부유물은 태평양 3대 거대 쓰레기 지역으로 모인 뒤 바람과 해류들로 인해 잘게 분쇄돼 해저로 침전된다.'),\n",
       " Document(metadata={'source': '/mnt/d/temp/user/ed/mart/mmplastic/20240725_154000_000000/data.json', 'seq_num': 3, 'title': 'APEC 국가간 무역장벽, 태평양 해양쓰레기 청소 방해', 'date': '2022-12-18'}, page_content='15일(현지시간) 블룸버그통신에 따르면 APEC은 해양쓰레기를 청소하는 과정에서 출입국 비자 문제, 관련 장비에 대한 관세, 현지 항구·폐기물 관리시설에 대한 접근 제한 등 다양한 무역 장벽의 방해를 받고 있다고 최신 회보에서 밝혔다.'),\n",
       " Document(metadata={'source': '/mnt/d/temp/user/ed/mart/mmplastic/20240725_154000_000000/data.json', 'seq_num': 3, 'title': 'APEC 국가간 무역장벽, 태평양 해양쓰레기 청소 방해', 'date': '2022-12-18'}, page_content='이처럼 해저에 가라앉는 미세플라스틱의 규모가 2040년에는 현재의 2.6배나 될 것으로 우려된다.\\n\\n이들 플라스틱 쓰레기가 해상과 해변 생태계, 이들 생태계에 의존하는 산업계에 미치는 영향을 가늠하기조차 쉽지 않다고 APEC은 지적했다.')]"
      ]
     },
     "execution_count": 430,
     "metadata": {},
     "output_type": "execute_result"
    }
   ],
   "source": [
    "chunk_vector_db.search(\n",
    "    question, filter={\"seq_num\": 3}, search_type=\"mmr\", k=10\n",
    ")"
   ]
  },
  {
   "cell_type": "code",
   "execution_count": 431,
   "metadata": {},
   "outputs": [
    {
     "data": {
      "text/plain": [
       "[Document(metadata={'seq_num': 3, 'chunk_seq_num': 3}, page_content='- 태평양 해양쓰레기 청소 활동은 출입국 비자 문제, 관세, 항구 접근 제한 등 무역 장벽으로 어려움을 겪고 있다(2023년 1월 15일).\\n\\n- 플라스틱 쓰레기는 하천에서 바다로 유입되는 과정이 미흡하고, 해저에 가라앉아 문제가 심각해지고 있다.'),\n",
       " Document(metadata={'seq_num': 3, 'chunk_seq_num': 0}, page_content='APEC은 태평양 해양쓰레기 청소를 방해하는 무역장벽과 하천 청소 부재, 미세 플라스틱의 증가 등을 지적했습니다.'),\n",
       " Document(metadata={'seq_num': 3, 'chunk_seq_num': 1}, page_content='APEC: 태평양 플라스틱 쓰레기 청소, 국가 간 무역장벽 방해 (2023년 현재) 해상 쓰레기 영향: 관광, 교통, 양식산업 등 다양한 산업계에 미치는 직접적 영향 증가')]"
      ]
     },
     "execution_count": 431,
     "metadata": {},
     "output_type": "execute_result"
    }
   ],
   "source": [
    "intent_summary_vector_db.similarity_search(\n",
    "    question, filter={\"seq_num\": 3}\n",
    ")"
   ]
  },
  {
   "cell_type": "code",
   "execution_count": null,
   "metadata": {},
   "outputs": [],
   "source": []
  },
  {
   "cell_type": "code",
   "execution_count": 432,
   "metadata": {},
   "outputs": [
    {
     "data": {
      "text/plain": [
       "[Document(metadata={'seq_num': 4, 'expanded_query_seq_num': 2}, page_content='먹는물네트워크와 대한환경공학회가 주최한 ‘생수와 미세플라스틱, 안전한 먹는 물을 위한 공동 노력’ 포럼이 열린 곳과 날짜는 언제였나요?'),\n",
       " Document(metadata={'seq_num': 4, 'expanded_query_seq_num': 5}, page_content='보통 미세플라스틱은 무엇을 말하며, 나노 플라스틱은 어떤 기준으로 분류되나요?'),\n",
       " Document(metadata={'seq_num': 4, 'expanded_query_seq_num': 0}, page_content='플라스틱병에 든 생수에 미세플라스틱이 많이 함유되어 있다는 연구결과가 어떻게 발표되었나요?'),\n",
       " Document(metadata={'seq_num': 4, 'expanded_query_seq_num': 1}, page_content='미세플라스틱의 위해성 평가와 정부 차원의 대응에 대한 목소리에서 특히 중요한 부분은 무엇인가요?')]"
      ]
     },
     "execution_count": 432,
     "metadata": {},
     "output_type": "execute_result"
    }
   ],
   "source": [
    "expected_query_vector_db.similarity_search(\n",
    "    question,\n",
    "    filter={\"seq_num\": 4},\n",
    "    fetck_k=10\n",
    ")"
   ]
  },
  {
   "cell_type": "code",
   "execution_count": 433,
   "metadata": {},
   "outputs": [
    {
     "data": {
      "text/plain": [
       "[Document(metadata={'source': '/mnt/d/temp/user/ed/mart/mmplastic/20240725_154000_000000/data.json', 'seq_num': 4, 'title': '생수는 과연 안전할까?···건강 위협하는 미세 플라스틱', 'date': '2024-07-31'}, page_content='플라스틱병에 든 생수에 미세플라스틱이 다량 함유되어있다는 연구결과가 잇따라 발표되면서 제대로 된 위해성 평가와 정부 차원의 정책적 대응이 필요하다는 목소리가 나왔다.'),\n",
       " Document(metadata={'source': '/mnt/d/temp/user/ed/mart/mmplastic/20240725_154000_000000/data.json', 'seq_num': 4, 'title': '생수는 과연 안전할까?···건강 위협하는 미세 플라스틱', 'date': '2024-07-31'}, page_content='이날 토론자로 나선 백명수 시민환경연구소 소장은 \"미세플라스틱 오염에 대한 우려가 커지고 있지만, 정부 정책은 우려를 불식시키지 못하고 있다\"고 비판했다.'),\n",
       " Document(metadata={'source': '/mnt/d/temp/user/ed/mart/mmplastic/20240725_154000_000000/data.json', 'seq_num': 4, 'title': '생수는 과연 안전할까?···건강 위협하는 미세 플라스틱', 'date': '2024-07-31'}, page_content='보통 미세플라스틱은 5㎜ 이하의 작은 플라스틱 조각을 말한다. 1㎛ 이하는 나노 플라스틱으로 분류된다. 인간이 만들어낸 물건에서 떨어져 나간 이 작은 플라스틱은 대기, 담수, 해양, 지하수, 토양 등 모든 곳에 흩뿌려져 지구 전체를 순환한다.'),\n",
       " Document(metadata={'source': '/mnt/d/temp/user/ed/mart/mmplastic/20240725_154000_000000/data.json', 'seq_num': 4, 'title': '생수는 과연 안전할까?···건강 위협하는 미세 플라스틱', 'date': '2024-07-31'}, page_content='발제자로 나선 정상현 부산대 환경공학과 교수는 “기후위기와 인간 활동에 의해 물로 많은 양의 미세플라스틱이 배출되고 있다”면서 “원수를 정수하는 과정을 거치고 있지만 여전히 먹는 물에서 미세플라스틱이 검출될 수 있는 상황”이라고 말했다. 그러면서 “유해성 평가 방법과 분석 프로토콜, 대응 방안 등에 관한 연구가 필요하다”고 말했다.')]"
      ]
     },
     "execution_count": 433,
     "metadata": {},
     "output_type": "execute_result"
    }
   ],
   "source": [
    "chunk_vector_db.similarity_search(\n",
    "    question,\n",
    "    filter={\"seq_num\": 4},\n",
    "    fetck_k=10\n",
    ")"
   ]
  },
  {
   "cell_type": "code",
   "execution_count": null,
   "metadata": {},
   "outputs": [],
   "source": []
  },
  {
   "cell_type": "code",
   "execution_count": 434,
   "metadata": {},
   "outputs": [
    {
     "name": "stdout",
     "output_type": "stream",
     "text": [
      "[{'seq_num': 1, 'expanded_query_seq_num': 2}]연구 결과에 따르면, 미세플라스틱은 어떤 요인에 노출되면 표면 입자가 변형되어 오염 물질을 더 잘 흡수하는 상태로 변형되는 거래?\n",
      "[{'seq_num': 1, 'expanded_query_seq_num': 7}]실제 환경에서 수십 년 동안 풍화된 미세플라스\n",
      "[{'seq_num': 1, 'expanded_query_seq_num': 1}]미국 애리조나 주립대학의 연구에서 확인된 미세플라스틱의 유해화학물질 흡수 증가 현상에 대해 자세히 말해줘\n",
      "[{'seq_num': 2, 'expanded_query_seq_num': 2}]UNEP의 목표는 언제까지 조약을 완성하는 것입니다.\n"
     ]
    }
   ],
   "source": [
    "docs = expected_query_vector_db.search(\"페난트렌과 메틸렌 블루\", search_type=\"mmr\")\n",
    "print('\\n'.join([f\"[{doc.metadata}]{doc.page_content}\" for doc in docs]))"
   ]
  },
  {
   "cell_type": "markdown",
   "metadata": {},
   "source": [
    "## Serving"
   ]
  },
  {
   "cell_type": "markdown",
   "metadata": {},
   "source": [
    "#### Test Question Classification\n",
    "- for SentenceType / Intent Classification"
   ]
  },
  {
   "cell_type": "code",
   "execution_count": 435,
   "metadata": {},
   "outputs": [
    {
     "data": {
      "text/plain": [
       "'질문형'"
      ]
     },
     "execution_count": 435,
     "metadata": {},
     "output_type": "execute_result"
    }
   ],
   "source": [
    "sent_type_chain.invoke(question)"
   ]
  },
  {
   "cell_type": "code",
   "execution_count": 436,
   "metadata": {},
   "outputs": [
    {
     "data": {
      "text/plain": [
       "{'sentence_type': '서술형',\n",
       " 'intent': '영향',\n",
       " 'question': '\\n미세플라스틱(Microplastic)이 환경에서 노후화가 진행됨에 따라 더 많은 유해화학물질을 흡수하는 것으로 밝혀졌다. 이는 미국 애리조나 주립대학이 수행한 연구에 따라 확인되었으며, 연구 결과에 따르면 미세플라스틱은 햇빛 등에 노출 시 표면입자가 변형되어 유기오염물질을 더 잘 흡수할 수 있는 상태로 변형되는 것으로 밝혀졌다.\\n\\n연구팀은 폴리에틸렌(Polyethylene) 및 폴리프로필렌(Polypropylene)을 사용하여 미세플라스틱을 인위적으로 생성하고, 자외선 및 과산화수소를 이용해 풍화시킨 후, 풍화된 미세플라스틱 입자를 오염물질 모델인 페난트렌(phenanthrene)및 메틸렌 블루(methylene blue)에 노출시켰다.\\n'}"
      ]
     },
     "execution_count": 436,
     "metadata": {},
     "output_type": "execute_result"
    }
   ],
   "source": [
    "question = \"\"\"\n",
    "미세플라스틱(Microplastic)이 환경에서 노후화가 진행됨에 따라 더 많은 유해화학물질을 흡수하는 것으로 밝혀졌다. 이는 미국 애리조나 주립대학이 수행한 연구에 따라 확인되었으며, 연구 결과에 따르면 미세플라스틱은 햇빛 등에 노출 시 표면입자가 변형되어 유기오염물질을 더 잘 흡수할 수 있는 상태로 변형되는 것으로 밝혀졌다.\\n\\n연구팀은 폴리에틸렌(Polyethylene) 및 폴리프로필렌(Polypropylene)을 사용하여 미세플라스틱을 인위적으로 생성하고, 자외선 및 과산화수소를 이용해 풍화시킨 후, 풍화된 미세플라스틱 입자를 오염물질 모델인 페난트렌(phenanthrene)및 메틸렌 블루(methylene blue)에 노출시켰다.\n",
    "\"\"\"\n",
    "(input_chain | question_classify_chain).invoke(question)"
   ]
  },
  {
   "cell_type": "code",
   "execution_count": null,
   "metadata": {},
   "outputs": [],
   "source": []
  },
  {
   "cell_type": "code",
   "execution_count": null,
   "metadata": {},
   "outputs": [],
   "source": []
  },
  {
   "cell_type": "markdown",
   "metadata": {},
   "source": [
    "# Garage"
   ]
  },
  {
   "cell_type": "code",
   "execution_count": 437,
   "metadata": {},
   "outputs": [],
   "source": [
    "redundant_filter = EmbeddingsRedundantFilter(embeddings=embeddings)\n",
    "relevant_filter = EmbeddingsFilter(embeddings=embeddings, similarity_threshold=0.76)\n",
    "pipeline_compressor = DocumentCompressorPipeline(\n",
    "    transformers=[overlapped_sentences_splitter, redundant_filter, relevant_filter]\n",
    "    # transformers=[redundant_filter, relevant_filter]\n",
    ")"
   ]
  },
  {
   "cell_type": "code",
   "execution_count": 438,
   "metadata": {},
   "outputs": [
    {
     "name": "stdout",
     "output_type": "stream",
     "text": [
      "RANK:1\n",
      "SEQ_NUM:[1], SIM[0.9049526960338856]\n",
      "미세플라스틱, 노후화 될수록 더 많은 오염물질 흡착:\n",
      "\n",
      "평가하기 위해서는 표면 풍화와 오염물질 흡착에 대한 복잡한 상호작용을 이해하는 것이 매우 중요하다.‘‘고 결론지었다.\n",
      "----------------------------------------------------------------------------------------------------\n",
      "RANK:2\n",
      "SEQ_NUM:[2], SIM[0.9020680308094472]\n",
      "UN, 플라스틱 내 우려물질 사용 금지를 위한 ‘플라스틱 조약‘ 초안 발표:\n",
      "\n",
      "조약 초안에 따르면, 조약 당사국은 미세플라스틱을 포함한 유해화학물질이 대기, 토양, 수질 및 생태계로 배출되는 것을 ‘방지 및 제거‘ 해야 한다고 명시하고 있으며, 이를 위해 아래 3 가지 방안을 제시함.\n",
      "----------------------------------------------------------------------------------------------------\n",
      "RANK:3\n",
      "SEQ_NUM:[2], SIM[0.892892688079204]\n",
      "UN, 플라스틱 내 우려물질 사용 금지를 위한 ‘플라스틱 조약‘ 초안 발표:\n",
      "\n",
      "- 쉽게 재활용할 수 없는 고분자 및 브롬계난연제를 포함하여 안전하고 품질 높은 2차 재료의 재활용성 또는 순환성을 저해하는 물질\n",
      "\n",
      "- 미세플라스틱과 같이 환경에서 잘 분해되지 않아 방출했을 때 위험성이 있는 물질\n",
      "----------------------------------------------------------------------------------------------------\n",
      "RANK:4\n",
      "SEQ_NUM:[3], SIM[0.8806877119130335]\n",
      "APEC 국가간 무역장벽, 태평양 해양쓰레기 청소 방해:\n",
      "\n",
      "결국 이들 미세 플라스틱 부유물은 태평양 3대 거대 쓰레기 지역으로 모인 뒤 바람과 해류들로 인해 잘게 분쇄돼 해저로 침전된다.\n",
      "----------------------------------------------------------------------------------------------------\n",
      "RANK:5\n",
      "SEQ_NUM:[2], SIM[0.8702563791973057]\n",
      "UN, 플라스틱 내 우려물질 사용 금지를 위한 ‘플라스틱 조약‘ 초안 발표:\n",
      "\n",
      "유엔환경계획(UNEP), 우려되는 화학물질 및 고분자(polymer) 사용을 전 세계적으로 금지하는 새로운 글로벌 조약 초안*을 발표함(9월 4일).\n",
      "----------------------------------------------------------------------------------------------------\n",
      "RANK:6\n",
      "SEQ_NUM:[3], SIM[0.8697459374031059]\n",
      "APEC 국가간 무역장벽, 태평양 해양쓰레기 청소 방해:\n",
      "\n",
      "또 해변 쓰레기 청소는 수십 년간 진행돼 왔으나, 플라스틱 쓰레기 등이 바다로 유입되는 통로인 하천에 대한 청소는 제대로 이뤄지지 않고 있다고 지적했다.\n",
      "----------------------------------------------------------------------------------------------------\n",
      "RANK:7\n",
      "SEQ_NUM:[3], SIM[0.8643805976630698]\n",
      "APEC 국가간 무역장벽, 태평양 해양쓰레기 청소 방해:\n",
      "\n",
      "태평양의 플라스틱 등 해양쓰레기 청소가 국가 간 무역장벽의 방해를 받고 있다고 아시아태평양경제협력체(APEC)가 진단했다.\n",
      "----------------------------------------------------------------------------------------------------\n",
      "RANK:8\n",
      "SEQ_NUM:[2], SIM[0.85924139627535]\n",
      "UN, 플라스틱 내 우려물질 사용 금지를 위한 ‘플라스틱 조약‘ 초안 발표:\n",
      "\n",
      "조약에 명시된 요구사항은 국가 정책기관에 전달되어 궁극적으로 플라스틱을 생산 및 사용하는 기업과, 화학첨가제를 제조 및 공급하는 기업에 영향을 미칠 예정.\n",
      "----------------------------------------------------------------------------------------------------\n",
      "RANK:9\n",
      "SEQ_NUM:[4], SIM[0.8567168112800314]\n",
      "생수는 과연 안전할까?···건강 위협하는 미세 플라스틱:\n",
      "\n",
      "이날 토론자로 나선 백명수 시민환경연구소 소장은 \"미세플라스틱 오염에 대한 우려가 커지고 있지만, 정부 정책은 우려를 불식시키지 못하고 있다\"고 비판했다.\n",
      "----------------------------------------------------------------------------------------------------\n",
      "RANK:10\n",
      "SEQ_NUM:[4], SIM[0.8471251935127051]\n",
      "생수는 과연 안전할까?···건강 위협하는 미세 플라스틱:\n",
      "\n",
      "플라스틱병에 든 생수에 미세플라스틱이 다량 함유되어있다는 연구결과가 잇따라 발표되면서 제대로 된 위해성 평가와 정부 차원의 정책적 대응이 필요하다는 목소리가 나왔다.\n",
      "----------------------------------------------------------------------------------------------------\n",
      "RANK:11\n",
      "SEQ_NUM:[2], SIM[0.8458507082098211]\n",
      "UN, 플라스틱 내 우려물질 사용 금지를 위한 ‘플라스틱 조약‘ 초안 발표:\n",
      "\n",
      "- 방안 1 : 각 국가의 플라스틱 생산에 우려되는 화학물질 및 고분자 사용을 ‘금지 및 제거‘하도록 구속함\n",
      "----------------------------------------------------------------------------------------------------\n",
      "RANK:12\n",
      "SEQ_NUM:[1], SIM[0.7633405649711595]\n",
      "미세플라스틱, 노후화 될수록 더 많은 오염물질 흡착:\n",
      "\n",
      "연구팀은Chemospere저널에 발표한 논문에서, ‘환경 내에서 오염물질의 매개체로써의 미세플라스틱의 잠재적인 역할을 고려할 때, 미세플라스틱이 야기하는 미래의 환경 위험성을 평가하기 위해서는 표면 풍화와 오염물질 흡착에 대한 복잡한 상호작용을 이해하는 것이 매우\n"
     ]
    }
   ],
   "source": [
    "chunk_retriever = chunk_vector_db.as_retriever(\n",
    "    search_kwargs={\"k\": 10}\n",
    ")\n",
    "compression_retriever = ContextualCompressionRetriever(\n",
    "    base_compressor=pipeline_compressor, base_retriever=chunk_retriever\n",
    ")\n",
    "\n",
    "compressed_docs = compression_retriever.get_relevant_documents(\n",
    "    # question\n",
    "    # \"태평양 쓰레기 청소가 무역방벽 유발\"\n",
    "    \"생수 미세플라스틱 연구자 찾아줘\"\n",
    ")\n",
    "# compressed_docs = compression_retriever.invoke(\n",
    "#     question\n",
    "# )\n",
    "pretty_print_docs_with_similarity(compressed_docs)"
   ]
  }
 ],
 "metadata": {
  "kernelspec": {
   "display_name": "mypy311",
   "language": "python",
   "name": "python3"
  },
  "language_info": {
   "codemirror_mode": {
    "name": "ipython",
    "version": 3
   },
   "file_extension": ".py",
   "mimetype": "text/x-python",
   "name": "python",
   "nbconvert_exporter": "python",
   "pygments_lexer": "ipython3",
   "version": "3.11.6"
  }
 },
 "nbformat": 4,
 "nbformat_minor": 2
}
